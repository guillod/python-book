{
 "cells": [
  {
   "cell_type": "markdown",
   "id": "c2270386",
   "metadata": {},
   "source": [
    "<div style=\"width:100%\"><a href=\"https://www.routledge.com/Python-Programming-for-Mathematics/Guillod/p/book/9781032910116\"><img src=\"https://python.guillod.org/book/banner1.png\"/></a></div>\n",
    "\n",
    "This file reflects the statements of the exercises of a chapter of the book *[Python Programming for Mathematics](https://www.routledge.com/Python-Programming-for-Mathematics/Guillod/p/book/9781032910116)*.\n",
    "All statements can be downloaded in [Jupyter Notebook](https://python.guillod.org/book/) format or executed directly online on [GESIS](https://notebooks.gesis.org/binder/v2/gh/guillod/python-book/HEAD).\n",
    "The answers are available in the book (ISBN [9781032910116](https://www.routledge.com/Python-Programming-for-Mathematics/Guillod/p/book/9781032910116)) and ebook (ISBN [9781003565451](https://www.routledge.com/Python-Programming-for-Mathematics/Guillod/p/book/9781003565451)) published by Chapman & Hall/CRC Press in the Python Series.\n",
    "This file reflects the exercises as published in this book and differs somewhat from the exercises presented on the page [python.guillod.org](https://python.guillod.org/)."
   ]
  },
  {
   "cell_type": "markdown",
   "id": "c0631afd",
   "metadata": {},
   "source": [
    "# 10 Probability and statistics"
   ]
  },
  {
   "cell_type": "markdown",
   "id": "0c35f7f3",
   "metadata": {},
   "source": [
    "<div id=\"ch:proba-stats\"></div>\n",
    "\n",
    "In a first step, the statistics of the proportion of numbers beginning with a certain digit will be studied. Then in a second step, important probabilistic models will be introduced and simulated, such as random walks, illustrations of the central limit theorem, or percolation.\n",
    "\n",
    "**Concepts abordés:**\n",
    "\n",
    "* statistics and probability\n",
    "\n",
    "* random harmonic series\n",
    "\n",
    "* random walk\n",
    "\n",
    "* central limit theorem\n",
    "\n",
    "* random vectors\n",
    "\n",
    "* percolation\n",
    "\n",
    "* phase transition\n",
    "\n",
    "* histograms\n",
    "\n",
    "* optimization by compilation"
   ]
  },
  {
   "cell_type": "markdown",
   "id": "3eeb09fc",
   "metadata": {},
   "source": [
    "# Exercise 10.1: Harmonic series of random sign"
   ]
  },
  {
   "cell_type": "markdown",
   "id": "0c033557",
   "metadata": {},
   "source": [
    "The goal of this exercise is to simulate the convergence of a harmonic series whose sign is drawn randomly. More precisely, if $(X_i)_{i\\in\\mathbb{N}}$ is a sequence of independent random variables worth $-1$ or $1$ with probability $\\frac{1}{2}$, then we define the partial sum:"
   ]
  },
  {
   "cell_type": "markdown",
   "id": "1365f798",
   "metadata": {},
   "source": [
    "$$\n",
    "W_0 = 0 \\,, \\qquad\\qquad W_n = \\sum_{i=1}^n \\frac{X_i}{i} \\,,\n",
    "$$"
   ]
  },
  {
   "cell_type": "markdown",
   "id": "e99ac583",
   "metadata": {},
   "source": [
    "and the question is to determine if the sequence $(W_n)_{n\\in\\mathbb{N}}$ converges and if so toward what.\n",
    "\n",
    "**a)**\n",
    "Write a function `sign()` that simulates the random variable $X_i$."
   ]
  },
  {
   "cell_type": "markdown",
   "id": "b0606c0d",
   "metadata": {},
   "source": [
    "**b)**\n",
    "Write a function `simulate(n)` that returns a realization of $(W_0,W_1,\\dots,W_n)$."
   ]
  },
  {
   "cell_type": "markdown",
   "id": "0412ef0d",
   "metadata": {},
   "source": [
    "**c)**\n",
    "Plot the function $n \\mapsto W_n$ for different realizations, for example, for $0\\leq n\\leq 1 000$ and make a conjecture about the convergence of the sequence $(W_n)_{n\\in\\mathbb{N}}$."
   ]
  },
  {
   "cell_type": "markdown",
   "id": "14bf5490",
   "metadata": {},
   "source": [
    "**d)**\n",
    "<font color=\"red\">!</font>\n",
    "Determine the histogram of $W_{1 000}$ for $10^4$ or $10^5$ realizations to get an idea of the law of the limiting random variable."
   ]
  },
  {
   "cell_type": "markdown",
   "id": "0b48bf8d",
   "metadata": {},
   "source": [
    "# Exercise 10.2: Gambler's ruin"
   ]
  },
  {
   "cell_type": "markdown",
   "id": "55ffa5ed",
   "metadata": {},
   "source": [
    "The goal is to simulate the evolution of the amount of money of a gambler playing heads or tails. At each toss, the player wins one euro if it is heads and loses one if it is tails. The probability of getting tails is noted $p$, that of getting heads $q$. In particular, $p=q=\\frac{1}{2}$ if the coin is balanced.\n",
    "\n",
    "Mathematically, the sum $S_i$ owned by the player at time $i$ is given by a random walk:"
   ]
  },
  {
   "cell_type": "markdown",
   "id": "d8c3fbb9",
   "metadata": {},
   "source": [
    "$$\n",
    "S_{i}=\\begin{cases}\n",
    "0\\,, & \\text{if}\\:S_{i-1}=0\\,,\\\\ \n",
    "S_{i-1}+X_{i}\\,, & \\text{if}\\:S_{i-1}\\geq1\\,,\n",
    "\\end{cases}\n",
    "$$"
   ]
  },
  {
   "cell_type": "markdown",
   "id": "25663207",
   "metadata": {},
   "source": [
    "where $(X_i)_ {i}$ are independent random variables of law $\\mathbb{P}(X_i=1) = p$ and $\\mathbb{P}(X_i=-1) = q$.\n",
    "\n",
    "**a)**\n",
    "Write a function `simulate(p,k,N)` that generates a realization of length $N$ of the process from $S_0=k$, *i.e.*, returns $(S_0,S_1,S_2,\\dots,S_N)$. Represent graphically several realizations."
   ]
  },
  {
   "cell_type": "markdown",
   "id": "a8ef0769",
   "metadata": {},
   "source": [
    "**b)**\n",
    "Simulate a player who, starting with a sum $k$, plays until he loses everything or has the amount $n \\geq k$."
   ]
  },
  {
   "cell_type": "markdown",
   "id": "8225b8de",
   "metadata": {},
   "source": [
    "**c)**\n",
    "If $T$ is the time at which the game stops, *i.e.*, when $S_T = 0$ or $S_T = n$, recover by simulation the theoretical results on the average time:"
   ]
  },
  {
   "cell_type": "markdown",
   "id": "8660424d",
   "metadata": {},
   "source": [
    "$$\n",
    "\\mathbb{E}(T)=\\begin{cases}\n",
    "k(n-k)\\,, & \\text{if}\\:p=q\\,,\\\\ \n",
    "\\dfrac{n}{p-q}\\dfrac{1-\\rho^{k}}{1-\\rho^{n}}-\\dfrac{k}{p-q}\\,, & \\text{if}\\:p\\neq q\\,,\n",
    "\\end{cases}\n",
    "$$"
   ]
  },
  {
   "cell_type": "markdown",
   "id": "d696e441",
   "metadata": {},
   "source": [
    "and the place of exit:"
   ]
  },
  {
   "cell_type": "markdown",
   "id": "377d2467",
   "metadata": {},
   "source": [
    "$$\n",
    "\\mathbb{P}(S_{T}=0)=\\begin{cases}\n",
    "\\dfrac{n-k}{n}\\,, & \\text{if}\\:p=q\\,,\\\\[4pt] \n",
    "\\dfrac{\\rho^{k}-\\rho^{n}}{1-\\rho^{n}}\\,, & \\text{if}\\:p\\neq q\\,,\n",
    "\\end{cases}\n",
    "$$"
   ]
  },
  {
   "cell_type": "markdown",
   "id": "3c698553",
   "metadata": {},
   "source": [
    "where $\\rho = q/p$. For this, we can plot these quantities as a function of $p$ or just consider the case $p=q=\\frac{1}{2}$."
   ]
  },
  {
   "cell_type": "markdown",
   "id": "456011eb",
   "metadata": {},
   "source": [
    "# Exercise 10.3: Pólya urn"
   ]
  },
  {
   "cell_type": "markdown",
   "id": "44707f70",
   "metadata": {},
   "source": [
    "An urn initially contains (at $t=0$) $r_0$ red balls and $b_0$ white balls. At each time, we pick a ball uniformly at random from the urn. This ball is then returned to the urn and a ball of the same color is added. Such a system is called a *Pólya urn*.\n",
    "The purpose of this exercise is to study the behavior of the fraction of red balls in the urn, *i.e.*, the number of red balls out of the total number.\n",
    "We will call $r_n$ and $b_n$, respectively, the number of red and white balls in the urn at time $n$.\n",
    "\n",
    "**a)**\n",
    "Write a function `density` taking as argument a tuple representing the number of red and white balls in an urn, and which returns the density of red balls."
   ]
  },
  {
   "cell_type": "markdown",
   "id": "c42da4e1",
   "metadata": {},
   "source": [
    "We want to recursively construct the distribution of the number of red balls at time $n$, *i.e.*, the list of probabilities that the number of red balls is equal to a given integer $k$ (which will be the index of the list). This is done by writing two functions: `next_dist_red`, which takes as argument the distribution at time $n$ and returns the one at time $n+1$, which is thus the function that does all the work, and `dist_red`, which is the wrapper function, taking as argument $r_0$, $b_0$, and time $n$ and returning the distribution at time $n$ by a recursive call.\n",
    "We will use the following useful facts (make a small drawing):\n",
    "* The distribution passed as an argument to `next_dist_red` is a list `r`, and `r[k]` represents the probability of having `k` red balls in the urn at time $n$. The indices for `r` vary from 0 to the total number `s` of balls at time $n$.\n",
    "\n",
    "* At time $n+1$, to have $k$ red balls, we need:\n",
    "\n",
    "  * either having had $k$ red balls at the previous time and not having drawn a red ball;\n",
    "\n",
    "  * or having had $k-1$ red balls at the previous time and having drawn a red ball.\n",
    "\n",
    "* If $n=0$, the result of `dist_red` is completely deterministic and the coefficients of the list are only 0 and 1, depending on $r_0$ and $b_0$.\n",
    "\n",
    "**b)**\n",
    "Write the functions `next_dist_red` and `dist_red` using the directions provided. Look at the result of `dist_red(0,1,n)` and `dist_red(1,1,n)` for different values of `n` $(1,2,5,10,20,\\dots)$ and comment."
   ]
  },
  {
   "cell_type": "markdown",
   "id": "30475b0c",
   "metadata": {},
   "source": [
    "Rather than theoretically computing for each $n$ the sequence of theoretical probabilities, we will do statistics on a large number of Pólya urn realizations, after a large number of steps. For this, we need a function to evolve a Pólya urn.\n",
    "\n",
    "**c)**\n",
    "Define a function `polya_step(r,b)` which, given the composition of an urn passed as two parameters `r` and `b`, returns the (random) evolution after one step of the composition of the urn as a tuple. Also define a function `polya(r0,b0,N)` taking as arguments $r_0$, $b_0$ and $N$ as parameters and returning the (random) composition of a Pólya urn after $N$ steps, also as a tuple."
   ]
  },
  {
   "cell_type": "markdown",
   "id": "9d781a9e",
   "metadata": {},
   "source": [
    "**d)**\n",
    "Write a function `data_rdens_polya(r0,b0,N,nbexp)` that returns a list of length `nbexp` containing the densities of `nbexp` realizations of Pólya urns at time `N` initialized with `r0` red balls and `b0` white balls."
   ]
  },
  {
   "cell_type": "markdown",
   "id": "45085dfb",
   "metadata": {},
   "source": [
    "**e)**\n",
    "Store the result of `data_rdens_polya(2,3,1000,10_000)` in a variable and draw a histogram to see the distribution of densities. Be careful, we want the heights of the bars to be normalized so that their surface represents the proportion of points, and not so that they give the number of points per bin.\n",
    "\n",
    "**Hint.**\n",
    "A good rule of thumb is to choose the number of bins for a histogram of the order of the square root of the number of points. See the documentation of the `hist` function of Matplotlib."
   ]
  },
  {
   "cell_type": "markdown",
   "id": "87409677",
   "metadata": {},
   "source": [
    "# Exercise 10.4: Central limit theorem"
   ]
  },
  {
   "cell_type": "markdown",
   "id": "c69f1e72",
   "metadata": {},
   "source": [
    "The central limit theorem (also known as the central limit theorem, the central limit theorem or the central limit theorem) establishes the convergence of the sum of a sequence of random variables toward the normal distribution. Intuitively, this result states that a sum of identical and independent random variables tends (under certain conditions) toward a Gaussian random variable. Here's how it works:\n",
    "\n",
    "**Theorem:**\n",
    "Let $(X_n)$ be a sequence of independent real random variables of the same distribution with expectation $\\mu$ and standard deviation $\\sigma \\ne 0$.\n",
    "Let $(\\bar{X}_n)$ be the sequence defined by:"
   ]
  },
  {
   "cell_type": "markdown",
   "id": "662f6926",
   "metadata": {},
   "source": [
    "$$\n",
    "\\bar{X}_n = \\frac{1}{n} \\sum_{k=1}^n X_k \\,.\n",
    "$$"
   ]
  },
  {
   "cell_type": "markdown",
   "id": "9192ae2e",
   "metadata": {},
   "source": [
    "For $n$ large enough, the distribution of $\\bar{X}_n$ can be approximated by the normal distribution $\\mathcal{N}(\\mu, \\frac{\\sigma^2}{n})$.\n",
    "\n",
    "The aim of this exercise is to check whether this theorem is valid for different laws of probability:\n",
    "\n",
    "* **Poisson distribution**: discrete distribution on $\\mathbb{N}$, of parameter $\\lambda$, defined by:"
   ]
  },
  {
   "cell_type": "markdown",
   "id": "270dd538",
   "metadata": {},
   "source": [
    "$$\n",
    "\\mathbb{P}(X = k) = \\exp(-\\lambda) \\frac{\\lambda^k}{k!}\\,, \\quad \\forall k \\in \\mathbb{N} \\,.\n",
    "$$"
   ]
  },
  {
   "cell_type": "markdown",
   "id": "812b76ed",
   "metadata": {},
   "source": [
    "* **Normal distribution**: continuous distribution on $\\mathbb{R}$, of parameters $m$ and $\\sigma$, defined by density:"
   ]
  },
  {
   "cell_type": "markdown",
   "id": "d97d2707",
   "metadata": {},
   "source": [
    "$$\n",
    "\\frac{1}{\\sqrt{2\\pi\\sigma^2}} \\exp\\left( - \\frac{(x-m)^2}{2\\sigma^2} \\right)\\,, \\quad \\forall x \\in \\mathbb{R} \\,.\n",
    "$$"
   ]
  },
  {
   "cell_type": "markdown",
   "id": "61e9b175",
   "metadata": {},
   "source": [
    "* **Cauchy distribution**: continuous distribution on $\\mathbb{R}$, of parameters $a$ and $\\gamma$, defined by density:"
   ]
  },
  {
   "cell_type": "markdown",
   "id": "564e5f2d",
   "metadata": {},
   "source": [
    "$$\n",
    "\\frac{1}{\\pi\\gamma\\left(1 + \\left(\\frac{x-a}{\\gamma}\\right)^2\\right)}\\,, \\quad \\forall x \\in \\mathbb{R} \\,.\n",
    "$$"
   ]
  },
  {
   "cell_type": "markdown",
   "id": "a0e2b383",
   "metadata": {},
   "source": [
    "**a)**\n",
    "Define a function `normal_density(x, mu var)` taking as an argument :\n",
    "* `x` (array): an array of floating-point numbers;\n",
    "\n",
    "* `mu` (floating number): average $\\mu$;\n",
    "\n",
    "* `var` (strictly positive floating number): variance $\\sigma^2$;\n",
    "\n",
    "and which returns the density of the normal distribution evaluated for each number $x$ in `x`:"
   ]
  },
  {
   "cell_type": "markdown",
   "id": "5489a294",
   "metadata": {},
   "source": [
    "$$\n",
    "\\mathcal{N}(\\mu, \\sigma^2) = \\frac{1}{\\sqrt{2\\pi\\sigma^2}} \\exp\\left( - \\frac{(x-\\mu)^2}{2\\sigma^2} \\right) \\,.\n",
    "$$"
   ]
  },
  {
   "cell_type": "markdown",
   "id": "5f5d1d09",
   "metadata": {},
   "source": [
    "**b)**\n",
    "Look at the documentation for the [`numpy.random.poisson`](https://numpy.org/doc/stable/reference/random/generated/numpy.random.poisson.html) function and generate 10 random values according to a Poisson distribution with parameter $\\lambda = 2$."
   ]
  },
  {
   "cell_type": "markdown",
   "id": "183f53ae",
   "metadata": {},
   "source": [
    "**c)**\n",
    "Write a function `samples_poisson(lam, N, M)` which takes as arguments:\n",
    "* `lam` (strictly positive real): parameter $\\lambda$ for the Poisson distribution;\n",
    "\n",
    "* `N` (strictly positive integer): number of experiments;\n",
    "\n",
    "* `M` (strictly positive integer): number of random variables generated for each experiment;\n",
    "\n",
    "and which generates `N` experiments with `M` random variables generated per experiment, and returns:\n",
    "* the average value (floating number) over the `N * M` random variables generated;\n",
    "\n",
    "* the standard deviation (floating number) on the `N * M` random variables generated;\n",
    "\n",
    "* a numpy vector of size `N` where each element is the mean of the random variables in an experiment.\n",
    "\n",
    "For the values `lam=2` and `N=10_000`, run `samples_poisson(lam, N, M)` for $M \\in \\{10, 100, 1 000\\}$ and save the results in variables."
   ]
  },
  {
   "cell_type": "markdown",
   "id": "24a3524c",
   "metadata": {},
   "source": [
    "**d)**\n",
    "For each value of `M`, display the distribution of the numpy vector containing the means of each experiment, as well as the distribution of the expected normal distribution if the central limit theorem is verified. You can use Matplotlib `hist` function to display the histogram of a table, with the `bins=50` parameter to set the number of columns and `density=True` to display a probability distribution. Use the empirical means and standard deviations returned by the `samples_poisson` function for normal distribution parameters.\n",
    "Choose relevant values for the x-axis boundary values. Make a hypothesis on the validity of the central limit theorem for the Poisson distribution."
   ]
  },
  {
   "cell_type": "markdown",
   "id": "a420c86d",
   "metadata": {},
   "source": [
    "**e)**\n",
    "Repeat questions **c)** and **d)** for the normal distribution. Using the function [`numpy.random.normal`](https://numpy.org/doc/stable/reference/random/generated/numpy.random.Generator.normal.html), generate averages for `loc=2`, `scale=1`, `N=10_000`, and $M \\in \\{10, 100, 1 000\\}$.\n",
    "Plot the histograms and make a hypothesis about the validity of the central limit theorem for the normal distribution."
   ]
  },
  {
   "cell_type": "markdown",
   "id": "4ab07b13",
   "metadata": {},
   "source": [
    "**f)**\n",
    "Repeat questions **c)** and **d)** for the Cauchy distribution with $a=0$ and $\\gamma=1$. To do this, use the function [`numpy.random.standard_cauchy`](https://numpy.org/doc/stable/reference/random/generated/numpy.random.Generator.standard_cauchy.html). Use `bins=np.arange(-10, 10.1, 0.1)` and make an assumption about the validity of the central limit theorem for the Cauchy distribution."
   ]
  },
  {
   "cell_type": "markdown",
   "id": "69c94bb6",
   "metadata": {},
   "source": [
    "# Exercise 10.5: Random generation of unit vectors"
   ]
  },
  {
   "cell_type": "markdown",
   "id": "d697ec76",
   "metadata": {},
   "source": [
    "The aim of this exercise is to find an efficient method for randomly generating unit vectors in $\\mathbb{R}^n$ according to a uniform distribution.\n",
    "We will start with the case $n = 2$, where a real vector can be represented by a complex number.\n",
    "\n",
    "**a)**\n",
    "Consider the following strategy for randomly generating a unit vector in $\\mathbb{R}^2$:\n",
    "\n",
    "1. Generate $x$ randomly according to the uniform distribution on $[-1, 1]$;\n",
    "\n",
    "2. Generate $y$ randomly according to the uniform distribution on $[-1, 1]$;\n",
    "\n",
    "3. Return the unit complex $z = \\frac{x}{\\sqrt{x^2 + y^2}} + \\frac{y}{\\sqrt{x^2 + y^2}}i$.\n",
    "\n",
    "Write a function `generate_complex` which takes as argument a positive integer $N$ and returns a NumPy array of size $N$, where each element is a complex generated by the above strategy.\n",
    "\n",
    "**Hint.**\n",
    "It is much more efficient to generate $N$ random variables directly using the `size` argument of the function [`numpy.random.uniform`](https://numpy.org/doc/stable/reference/random/generated/numpy.random.Generator.uniform.html) than to generate them one by one with a `for` loop."
   ]
  },
  {
   "cell_type": "markdown",
   "id": "ddd78bef",
   "metadata": {},
   "source": [
    "**b)**\n",
    "For $n=2$, one way to check whether the distribution of vectors is uniform is to look at the distribution of angles/arguments of the complex numbers (*i.e.*, $\\arg{z}$): this should be uniform.\n",
    "Use the `generate_complex` function with $N = 10^6$ and display the distribution of angles/arguments. Does the strategy described in the previous question generate unit vectors uniformly?\n",
    "\n",
    "**Hint.**\n",
    "You can use the function [`numpy.angle`](https://numpy.org/doc/stable/reference/generated/numpy.angle.html)."
   ]
  },
  {
   "cell_type": "markdown",
   "id": "ebc8fd7a",
   "metadata": {},
   "source": [
    "**c)**\n",
    "The following modification to the previous strategy is proposed:\n",
    "\n",
    "1. Generate $x$ randomly according to the uniform distribution on $[-1, 1]$;\n",
    "\n",
    "2. Generate $y$ randomly according to the uniform distribution on $[-1, 1]$;\n",
    "\n",
    "3. If $x^2 + y^2 \\leq 1$, return the unit complex $z = \\frac{x}{\\sqrt{x^2 + y^2}} + \\frac{y}{\\sqrt{x^2 + y^2}}i$ (otherwise return nothing at all).\n",
    "\n",
    "Write a function `generate_complex_monte_carlo` which takes as argument a positive integer $N$ corresponding to the number of candidate vectors and returns a NumPy array of size $n \\leq N$, where each element is a complex generated by the above strategy.\n",
    "**Warning:** $n$ is random and therefore cannot be determined in advance.\n",
    "\n",
    "Repeat the previous question and display the angle/argument distribution of the complexes generated by this strategy.\n",
    "Does this strategy generate unit vectors uniformly?"
   ]
  },
  {
   "cell_type": "markdown",
   "id": "c2693aeb",
   "metadata": {},
   "source": [
    "**d)**\n",
    "We now ask how many candidate complexes must be generated on average to accept $n$ of them, which is equivalent to determining how many complexes are accepted on average from the $N$ candidates.\n",
    "The law of large numbers means that the ratio converges to the probability that a candidate vector will be accepted.\n",
    "This probability is equal to the ratio of the inclusion area $\\pi$ (the unit circle) to the total area $4$ (the square $[-1, 1]^2$), *i.e.*, $\\frac{\\pi}{4}$.\n",
    "Compare the ratio $\\frac{n}{N}$ to $\\frac{\\pi}{4}$."
   ]
  },
  {
   "cell_type": "markdown",
   "id": "744cb5db",
   "metadata": {},
   "source": [
    "**e)**\n",
    "We now consider the general case $n \\geq 2$. The strategy considered is the same as in question **c)**:\n",
    "\n",
    "1. Generate a vector $\\boldsymbol{x}=(x_1, \\ldots, x_n)$, where each $x_k$ is randomly and independently generated according to the uniform distribution on $[-1, 1]$;\n",
    "\n",
    "2. If $\\Vert \\boldsymbol{x} \\Vert_2 \\leq 1$, return the unit vector $\\frac{\\boldsymbol{x}}{\\Vert \\boldsymbol{x} \\Vert_2}$.\n",
    "\n",
    "The volume of the unit ball in $\\mathbb{R}^n$ is given by:"
   ]
  },
  {
   "cell_type": "markdown",
   "id": "46a82d08",
   "metadata": {},
   "source": [
    "$$\n",
    "V_n = \\frac{\\pi^{n/2}}{\\Gamma(\\frac{n}{2} + 1)}\n",
    "$$"
   ]
  },
  {
   "cell_type": "markdown",
   "id": "533ba56f",
   "metadata": {},
   "source": [
    "and the volume of the cube $[-1, 1]^n$ is $2^n$. Plot the probability of a vector being accepted in step 2 of this strategy for $n \\in \\{2, \\ldots, 20\\}$.\n",
    "\n",
    "Do you think this strategy is effective for large $n$ values?\n",
    "\n",
    "**Hint.**\n",
    "We can use [`scipy.special.gamma`](https://docs.scipy.org/doc/scipy/reference/generated/scipy.special.gamma.html) for the $\\Gamma$ function\n",
    "and the function [`scatter`](https://matplotlib.org/stable/api/_as_gen/matplotlib.pyplot.scatter.html) of Matplotlib to graphically display the values of a sequence with an adapted [scale](https://matplotlib.org/stable/gallery/scales/scales.html)."
   ]
  },
  {
   "cell_type": "markdown",
   "id": "472f2c2e",
   "metadata": {},
   "source": [
    "**f)**\n",
    "The following strategy can be shown to generate random vectors on $\\mathbb{R}^n$:\n",
    "\n",
    "1. Generate a vector $\\boldsymbol{x}=(x_1, \\ldots, x_n)$, where each $x_k$ is generated randomly and independently according to the reduced centered normal distribution: $x_k \\sim \\mathcal{N}(0, 1)$;\n",
    "\n",
    "2. Return the unit vector $\\frac{\\boldsymbol{x}}{\\Vert \\boldsymbol{x} \\Vert_2}$.\n",
    "\n",
    "Verify for $n=2$ that this strategy does indeed randomly generate unit vectors according to a uniform distribution by displaying the angle distribution (representing the vectors as complex numbers) for $N = 10^6$ vectors.\n",
    "\n",
    "**Hint.**\n",
    "You can use the function [`numpy.random.standard_normal`](https://numpy.org/doc/stable/reference/random/generated/numpy.random.Generator.standard_normal.html)."
   ]
  },
  {
   "cell_type": "markdown",
   "id": "51d1542e",
   "metadata": {},
   "source": [
    "# Exercise 10.6: <font color=\"red\">!!</font> Percolation"
   ]
  },
  {
   "cell_type": "markdown",
   "id": "b59883ce",
   "metadata": {},
   "source": [
    "The goal is to study a percolation model in a porous medium. The medium is modeled by a random matrix of Booleans that determines which sites can be invaded by water and which are impermeable. A matrix percolates if there is a water path from the top row to the bottom row.\n",
    "In the following examples, the entries of a matrix that can be percolated by water are colored and the entries that are actually filled with water are in blue. The first matrix does not percolate while the second does:\n",
    "\n",
    "<center><img src=\"data:image/png;base64,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\" style=\"width:90%;max-width:800px;\"></center>\n",
    "\n",
    "**a)**\n",
    "Write a function `generate(n,p)` that generates a matrix of Booleans of size $n \\times n$ such that each entry has probability $p$ of being right and $1-p$ of being wrong.\n",
    "\n",
    "**Hint.**\n",
    "The `random.binomial` function of NumPy can be useful."
   ]
  },
  {
   "cell_type": "markdown",
   "id": "aee9ecc1",
   "metadata": {},
   "source": [
    "**b)**\n",
    "Define a function `fill(isopen)` that for a given Boolean matrix returns another Boolean matrix with the entries invaded by water.\n",
    "\n",
    "**Hint.**\n",
    "Define a Boolean matrix `isfull` to store whether an input is filled with water or not, and then define a recursive function `flow(isopen, isfull, i, j)` to invade all possible inputs from $(i,j)$."
   ]
  },
  {
   "cell_type": "markdown",
   "id": "19b48482",
   "metadata": {},
   "source": [
    "**c)**\n",
    "Using Matplotlib, represent the filling of different randomly generated matrices."
   ]
  },
  {
   "cell_type": "markdown",
   "id": "90b2cf45",
   "metadata": {},
   "source": [
    "**d)**\n",
    "Define a function `percolate(isopen)` to determine whether a Boolean matrix is percolating or not."
   ]
  },
  {
   "cell_type": "markdown",
   "id": "6ac4a1ef",
   "metadata": {},
   "source": [
    "**e)**\n",
    "<font color=\"red\">!!</font> Calculate the time needed to determine if a matrix of size $50 \\times $50 with $p=0.9$ is percolating or not. Read the documentation of the Numba module to reduce the calculation time by compiling one of the functions: <https://numba.pydata.org/>.\n",
    "\n",
    "**Hint.**\n",
    "The function that is most used is the recursive function, so it is the one that should be optimized when compiling it."
   ]
  },
  {
   "cell_type": "markdown",
   "id": "328b5898",
   "metadata": {},
   "source": [
    "**f)**\n",
    "By doing statistics, determine the probability that a Boolean random matrix of size $n \\times n$ with probability $p$ will percolate. Study this probability as a function of $p$ and $n$.\n",
    "\n",
    "**Hint.**\n",
    "Plot this percolation probability as a function of $p$ for different values of $n$.\n",
    "\n",
    "**Answer.**\n",
    "In the limit of $n$ very large, a matrix almost surely percolates if $p>0.592746$ and almost never otherwise."
   ]
  },
  {
   "cell_type": "markdown",
   "id": "eaf990f5",
   "metadata": {},
   "source": [
    "**g)**\n",
    "<font color=\"red\">!!!</font> The statistics performed in the previous point are a typical example of calculations that can be easily executed in parallel, because each case is independent of the others. Parallelize the previous algorithm in such a way as to use all the cores of your processor, for example, with the help of the module [`mpi4py`](https://mpi4py.readthedocs.io/).\n",
    "\n",
    "**Hint.**\n",
    "Using Jupyter Lab to do parallel computing is quite complex to implement, it is better to use the command line to run a script in parallel, for example, for four cores: `mpirun -n 4 script.py`. Note that [Open MPI](https://www.open-mpi.org/) or [MPICH](https://www.mpich.org/) must be installed on the computer."
   ]
  }
 ],
 "metadata": {
  "kernelspec": {
   "display_name": "Python 3",
   "language": "python",
   "name": "python3"
  },
  "language_info": {
   "codemirror_mode": {
    "name": "ipython",
    "version": 3
   },
   "file_extension": ".py",
   "mimetype": "text/x-python",
   "name": "python",
   "nbconvert_exporter": "python",
   "pygments_lexer": "ipython3",
   "version": "3.8.5"
  }
 },
 "nbformat": 4,
 "nbformat_minor": 5
}