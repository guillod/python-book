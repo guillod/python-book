{
 "cells": [
  {
   "cell_type": "markdown",
   "id": "c2270386",
   "metadata": {},
   "source": [
    "<div style=\"width:100%\"><a href=\"https://www.routledge.com/Python-Programming-for-Mathematics/Guillod/p/book/9781032910116\"><img src=\"https://python.guillod.org/book/banner1.png\"/></a></div>\n",
    "\n",
    "This file reflects the statements of the exercises of a chapter of the book *[Python Programming for Mathematics](https://www.routledge.com/Python-Programming-for-Mathematics/Guillod/p/book/9781032910116)*.\n",
    "All statements can be downloaded in [Jupyter Notebook](https://python.guillod.org/book/) format or executed directly online on [GESIS](https://notebooks.gesis.org/binder/v2/gh/guillod/python-book/HEAD).\n",
    "The answers are available in the book (ISBN [9781032910116](https://www.routledge.com/Python-Programming-for-Mathematics/Guillod/p/book/9781032910116)) and ebook (ISBN [9781003565451](https://www.routledge.com/Python-Programming-for-Mathematics/Guillod/p/book/9781003565451)) published by Chapman & Hall/CRC Press in the Python Series.\n",
    "This file reflects the exercises as published in this book and differs somewhat from the exercises presented on the page [python.guillod.org](https://python.guillod.org/)."
   ]
  },
  {
   "cell_type": "markdown",
   "id": "20737d7b",
   "metadata": {},
   "source": [
    "# 3 Homogeneous structures"
   ]
  },
  {
   "cell_type": "markdown",
   "id": "e6251282",
   "metadata": {},
   "source": [
    "<div id=\"ch:numpy\"></div>\n",
    "\n",
    "Python's default data structures can handle heterogeneous data (for example, integers and strings).\n",
    "This feature makes Python data structures extremely flexible at the expense of performance. Indeed, since heterogeneous data must be supported, it is not possible to allocate a fixed memory range for a data structure, which slows down its use.\n",
    "Particularly in mathematics, homogeneous datasets of fixed size (list of integers, real or complex vectors, matrices...) appear very regularly.\n",
    "The NumPy module defines the `ndarray` type that is optimized for such homogeneous data structures of fixed sizes. The NumPy documentation is available [here](https://numpy.org/doc/stable/).\n",
    "\n",
    "To load the NumPy module, it is usual to proceed as follows:"
   ]
  },
  {
   "cell_type": "code",
   "execution_count": 1,
   "id": "52857805",
   "metadata": {
    "collapsed": false
   },
   "outputs": [],
   "source": [
    "import numpy as np"
   ]
  },
  {
   "cell_type": "markdown",
   "id": "aa5cd167",
   "metadata": {},
   "source": [
    "**Concepts abordés:**\n",
    "\n",
    "* homogeneous data table\n",
    "\n",
    "* slicing\n",
    "\n",
    "* vector operations\n",
    "\n",
    "* indexing and selection"
   ]
  },
  {
   "cell_type": "markdown",
   "id": "aced2f41",
   "metadata": {},
   "source": [
    "# Exercise 3.1: Introduction to NumPy"
   ]
  },
  {
   "cell_type": "markdown",
   "id": "5917fd96",
   "metadata": {},
   "source": [
    "**Creation.**\n",
    "The size and type of the elements of a NumPy array must be known in advance. The first way to create a NumPy array is to construct an array filled with zeros by specifying the size and type:"
   ]
  },
  {
   "cell_type": "code",
   "execution_count": 2,
   "id": "dcbe3910",
   "metadata": {
    "collapsed": false
   },
   "outputs": [],
   "source": [
    "array0 = np.zeros(3, dtype=int) # vector of 3 integers\n",
    "array1 = np.zeros((2,4), dtype=float) # array of floats of size 2x4\n",
    "array2 = np.zeros((2,2), dtype=complex) # square matrix of complex numbers of size 2x2\n",
    "array3 = np.zeros((5,6,4)) # three-dimensional array of floats"
   ]
  },
  {
   "cell_type": "markdown",
   "id": "772663f4",
   "metadata": {},
   "source": [
    "The second way is to pass the data directly:"
   ]
  },
  {
   "cell_type": "code",
   "execution_count": 3,
   "id": "b302aeaa",
   "metadata": {
    "collapsed": false
   },
   "outputs": [],
   "source": [
    "array4 = np.array([1,4,5]) # vector of integers\n",
    "array5 = np.array([[1.1,2.2,3.3,4.4],[1,2,3,4]]) # matrix of floats of size 2x4\n",
    "array6 = np.array([[1+1j,0.4],[3,1.5]]) # matrix of complex numbers of size 2x2"
   ]
  },
  {
   "cell_type": "markdown",
   "id": "9e3b3571",
   "metadata": {},
   "source": [
    "NumPy will then determine itself the type and the size of the array. Note that it is possible to force the type:"
   ]
  },
  {
   "cell_type": "code",
   "execution_count": 4,
   "id": "26b1215e",
   "metadata": {
    "collapsed": false
   },
   "outputs": [],
   "source": [
    "array0 = np.array([1,4,5], dtype=complex) # vector of complex numbers"
   ]
  },
  {
   "cell_type": "markdown",
   "id": "e0c98e08",
   "metadata": {},
   "source": [
    "The type of the elements of the NumPy array `array1` can be determined by `array1.dtype`. The size of this array is given by `array1.shape`.\n",
    "The following commands are used to access the array elements:"
   ]
  },
  {
   "cell_type": "code",
   "execution_count": 5,
   "id": "92d85af6",
   "metadata": {
    "collapsed": false
   },
   "outputs": [],
   "source": [
    "array4[1] # return 4\n",
    "array5[1,3] # return 4.0"
   ]
  },
  {
   "cell_type": "markdown",
   "id": "7ef2b0a9",
   "metadata": {},
   "source": [
    "Note that the indices start at 0 and not at 1.\n",
    "NumPy arrays are mutable in the sense that the data can be modified while keeping the same type and size:"
   ]
  },
  {
   "cell_type": "code",
   "execution_count": 6,
   "id": "27bd4aa8",
   "metadata": {
    "collapsed": false
   },
   "outputs": [],
   "source": [
    "array0[1] = 4\n",
    "array1[1,3] = 3.3\n",
    "array3[3,4,2] = 3"
   ]
  },
  {
   "cell_type": "markdown",
   "id": "797f7ac4",
   "metadata": {},
   "source": [
    "**Slicing.**\n",
    "Slicing allows you to access certain parts of a table:"
   ]
  },
  {
   "cell_type": "code",
   "execution_count": 7,
   "id": "0e8d6dd0",
   "metadata": {
    "collapsed": false
   },
   "outputs": [],
   "source": [
    "array4[2:3] # return the elements of indices between 2 and 3\n",
    "array1[0,:] # return the first row of array1\n",
    "array1[:,-1] # return the last column of array1\n",
    "array3[3,3:5,1:4] # return the corresponding sub-matrix"
   ]
  },
  {
   "cell_type": "markdown",
   "id": "fbec9f78",
   "metadata": {},
   "source": [
    "**Iteration.**\n",
    "It is possible to iterate an array on its first dimension, for example, to return the sum of the rows:"
   ]
  },
  {
   "cell_type": "code",
   "execution_count": 8,
   "id": "2d4ee770",
   "metadata": {
    "collapsed": false
   },
   "outputs": [],
   "source": [
    "for i in array5:\n",
    "    print(np.sum(i))"
   ]
  },
  {
   "cell_type": "markdown",
   "id": "3bd87bb6",
   "metadata": {},
   "source": [
    "**a)**\n",
    "Study the documentation for the `arange` function and use this function to generate the vectors $(5,6,7,8,9)$ and $(3,5,7,9)$.\n",
    "\n",
    "**Hint.**\n",
    "The documentation of the `arange` function is available [here](https://numpy.org/doc/stable/reference/generated/numpy.arange.html)."
   ]
  },
  {
   "cell_type": "markdown",
   "id": "edb24eeb",
   "metadata": {},
   "source": [
    "**b)**\n",
    "Study the documentation for the function `linspace` and use it to generate 10 evenly spaced numbers in the interval $[2,5]$."
   ]
  },
  {
   "cell_type": "markdown",
   "id": "4be8fc45",
   "metadata": {},
   "source": [
    "**c)**\n",
    "Read the documentation for the `reshape` function and perform the following transformations in succession:"
   ]
  },
  {
   "cell_type": "markdown",
   "id": "20c95873",
   "metadata": {},
   "source": [
    "$$\n",
    "(1,2,3,4,5,6)\\to\\begin{pmatrix}1 & 2\\\\ \n",
    "3 & 4\\\\ \n",
    "5 & 6\n",
    "\\end{pmatrix}\\to\\begin{pmatrix}1 & 2 & 3\\\\ \n",
    "4 & 5 & 6\n",
    "\\end{pmatrix}\\to\\begin{pmatrix}1 & 4\\\\ \n",
    "2 & 5\\\\ \n",
    "3 & 6\n",
    "\\end{pmatrix}\n",
    "$$"
   ]
  },
  {
   "cell_type": "markdown",
   "id": "3e346f8d",
   "metadata": {},
   "source": [
    "# Exercise 3.2: Operations on arrays"
   ]
  },
  {
   "cell_type": "markdown",
   "id": "941f5ccd",
   "metadata": {},
   "source": [
    "The basic arithmetic operations on NumPy arrays are performed element by element:"
   ]
  },
  {
   "cell_type": "code",
   "execution_count": 13,
   "id": "1508641c",
   "metadata": {
    "collapsed": false
   },
   "outputs": [],
   "source": [
    "mat1 = np.array([[1,2.5,3],[5,6.1,8],[3,2,5]])\n",
    "mat2 = np.array([[1,0.5,0],[0,0.9,8],[2,0,0]])\n",
    "mat1 + mat2 # return the sum element by element\n",
    "mat1 * mat2 # return the product element by element (not the matrix product)\n",
    "10*mat1**2 # return 10 times the square of the elements of mat1"
   ]
  },
  {
   "cell_type": "markdown",
   "id": "3ad4f2b7",
   "metadata": {},
   "source": [
    "Most of the mathematical functions defined by NumPy (see <https://numpy.org/doc/stable/reference/routines.math.html>) are also performed element by element:"
   ]
  },
  {
   "cell_type": "code",
   "execution_count": 14,
   "id": "29448c34",
   "metadata": {
    "collapsed": false
   },
   "outputs": [],
   "source": [
    "np.cos(mat1) # return the cosine element by element of mat1\n",
    "np.exp(mat1) # return the exponential element by element of mat1"
   ]
  },
  {
   "cell_type": "markdown",
   "id": "bcff82bd",
   "metadata": {},
   "source": [
    "The matrix product can be performed in one of three ways:"
   ]
  },
  {
   "cell_type": "code",
   "execution_count": 15,
   "id": "36a6afc6",
   "metadata": {
    "collapsed": false
   },
   "outputs": [],
   "source": [
    "np.dot(mat1,mat2)\n",
    "mat1.dot(mat2)\n",
    "mat1 @ mat2"
   ]
  },
  {
   "cell_type": "markdown",
   "id": "a62d2764",
   "metadata": {},
   "source": [
    "**a)**\n",
    "Given a vector $(v_0,v_1,\\dots,v_{n-1})$, the discrete derivative of this vector is defined by the vector $(d_0,d_1,\\dots,d_{n-2})$ given by $d_i = v_{i+1}-v_{i}$ for $i=0,1,\\dots,n-2$.\n",
    "\n",
    "Write a function `diff_list` that computes the discrete derivative of a list and a function `diff_np` that does the same operation but on NumPy vectors using slicing."
   ]
  },
  {
   "cell_type": "markdown",
   "id": "2aa7cab6",
   "metadata": {},
   "source": [
    "**b)**\n",
    "Let `a_list` and `a_np` be, respectively, a list and an array of 1 000 elements drawn at random in the interval $[0,1]$:"
   ]
  },
  {
   "cell_type": "code",
   "execution_count": 18,
   "id": "08915df4",
   "metadata": {
    "collapsed": false
   },
   "outputs": [],
   "source": [
    "a_list = [np.random.random() for _ in range(1000)]\n",
    "a_np = np.random.random(1000)"
   ]
  },
  {
   "cell_type": "markdown",
   "id": "032d4e2e",
   "metadata": {},
   "source": [
    "Compare the execution time of `diff_list(a_list)` and `diff_np(a_np)`.\n",
    "\n",
    "**Hint.**\n",
    "In Jupyter Lab, it is very easy to determine the time taken by a cell to evaluate itself, just start the cell with `%%time`, for example:"
   ]
  },
  {
   "cell_type": "code",
   "execution_count": 19,
   "id": "a76d0175",
   "metadata": {
    "collapsed": false
   },
   "outputs": [],
   "source": [
    "%%time\n",
    "result = diff_list(a_list)"
   ]
  },
  {
   "cell_type": "markdown",
   "id": "dab84617",
   "metadata": {},
   "source": [
    "To evaluate the cell multiple times and average the execution time to get a more accurate result, replace `%%time` with `%%timeit`. The documentation is available [here](https://ipython.readthedocs.io/en/stable/interactive/magics.html#magic-timeit).\n",
    "\n",
    "**Answer.**\n",
    "The execution time with NumPy tables should be approximately 50 to 100 times faster than with lists!"
   ]
  },
  {
   "cell_type": "markdown",
   "id": "f2304938",
   "metadata": {},
   "source": [
    "# Exercise 3.3: Vandermonde matrix"
   ]
  },
  {
   "cell_type": "markdown",
   "id": "ba0c2fb5",
   "metadata": {},
   "source": [
    "For $p, n\\in \\mathbb{N}^*$ and $\\boldsymbol{x}= (x_1, \\ldots, x_p)$ a vector of size $p$, the corresponding Vandermonde matrix is defined by:"
   ]
  },
  {
   "cell_type": "markdown",
   "id": "58c6d3d6",
   "metadata": {},
   "source": [
    "$$\n",
    "V(\\boldsymbol{x},n)=\\begin{pmatrix}\n",
    "1 & x_1 & x_1^2 & \\cdots & x_1^{n-1} & x_1^n \\\\ \n",
    "1 & x_2 & x_2^2 & \\cdots & x_2^{n-1} & x_2^n \\\\ \n",
    "\\vdots & \\vdots& \\vdots & \\ddots & \\vdots & \\vdots\\\\ \n",
    "1 & x_{p-1} & x_{p-1}^2 & \\cdots & x_{p-1}^{n-1} & x_{p-1}^n \\\\ \n",
    "1 & x_p & x_p^2 & \\cdots & x_p^{n-1} & x_p^n\n",
    "\\end{pmatrix}.\n",
    "$$"
   ]
  },
  {
   "cell_type": "markdown",
   "id": "bef5f0b0",
   "metadata": {},
   "source": [
    "**a)**\n",
    "Write a function that constructs the matrix $V(\\boldsymbol{x},n)$ element by element using a double loop."
   ]
  },
  {
   "cell_type": "markdown",
   "id": "fd890b3b",
   "metadata": {},
   "source": [
    "**b)**\n",
    "After establishing a relationship to write the $k$-th column of $V(\\boldsymbol{x},n)$ solely as a function of $\\boldsymbol{x}$ and $k$, write a second function that constructs the matrix $V(\\boldsymbol{x},n)$ column by column using this relationship."
   ]
  },
  {
   "cell_type": "markdown",
   "id": "44bbbe64",
   "metadata": {},
   "source": [
    "**c)**\n",
    "After establishing a relationship between the $k$-th column of $V(\\boldsymbol{x},n)$, its $(k-1)$-th column, and the vector $\\boldsymbol{x}$, write a third function that constructs the matrix $V(\\boldsymbol{x},n)$ column by column using this relationship."
   ]
  },
  {
   "cell_type": "markdown",
   "id": "d1b15db5",
   "metadata": {},
   "source": [
    "**d)**\n",
    "Compare the execution times of these three functions for $n=150$, $p=100$, and $\\boldsymbol{x}$ generated randomly."
   ]
  },
  {
   "cell_type": "markdown",
   "id": "574342a6",
   "metadata": {},
   "source": [
    "# Exercise 3.4: <font color=\"red\">!</font> Array indexing"
   ]
  },
  {
   "cell_type": "markdown",
   "id": "3b45679e",
   "metadata": {},
   "source": [
    "Slicing allows you to select blocks in an array, but it is also possible to select disparate elements using an array as indexing:"
   ]
  },
  {
   "cell_type": "code",
   "execution_count": 29,
   "id": "cae89a9e",
   "metadata": {
    "collapsed": false
   },
   "outputs": [],
   "source": [
    "a = np.arange(12)**2 # array of perfect squares\n",
    "i = np.array([1,3,8,5]) # array of indices\n",
    "a[i] # array of the elements with indices i"
   ]
  },
  {
   "cell_type": "markdown",
   "id": "49a985d9",
   "metadata": {},
   "source": [
    "Note that it is also possible to index by an array of higher dimension. The result is then an array of the same shape as the index:"
   ]
  },
  {
   "cell_type": "code",
   "execution_count": 30,
   "id": "dc834c5d",
   "metadata": {
    "collapsed": false
   },
   "outputs": [],
   "source": [
    "j = np.array([[3,4],[9,7]]) # two-dimensional array of indices\n",
    "a[j] # select the elements with indices j"
   ]
  },
  {
   "cell_type": "markdown",
   "id": "236e25c8",
   "metadata": {},
   "source": [
    "For a multi-dimensional array:"
   ]
  },
  {
   "cell_type": "code",
   "execution_count": 31,
   "id": "402de7cf",
   "metadata": {
    "collapsed": false
   },
   "outputs": [],
   "source": [
    "b = np.array([[0,1,2,3],[4,5,6,7],[8,9,10,11]])\n",
    "i = np.array([0,1,2,2]) # array of first indices\n",
    "j = np.array([1,0,3,1]) # array of second indices\n",
    "b[i,j] # select the elements of indices ij"
   ]
  },
  {
   "cell_type": "markdown",
   "id": "301118d3",
   "metadata": {},
   "source": [
    "Finally, it is possible to index an array by an array of Booleans:"
   ]
  },
  {
   "cell_type": "code",
   "execution_count": 32,
   "id": "7303e2f0",
   "metadata": {
    "collapsed": false
   },
   "outputs": [],
   "source": [
    "c = np.array([[0,1,2,3],[4,5,6,7],[8,9,10,11]])\n",
    "cond = (c >= 5) # array of Booleans defined by True if >= 5 and False otherwise\n",
    "c[cond] = 5 # assign the value 5 to all entries greater than 5"
   ]
  },
  {
   "cell_type": "markdown",
   "id": "66d4e48d",
   "metadata": {},
   "source": [
    "For the following, we consider the numbers:"
   ]
  },
  {
   "cell_type": "code",
   "execution_count": 33,
   "id": "260dd706",
   "metadata": {
    "collapsed": false
   },
   "outputs": [],
   "source": [
    "[0.9602, -0.99, 0.2837, 0.9602, 0.7539, -0.1455, -0.99, -0.9111, 0.9602, -0.1455, -0.99, 0.5403, -0.99, 0.9602, 0.2837, -0.99, 0.2837, 0.9602]"
   ]
  },
  {
   "cell_type": "markdown",
   "id": "483db6a8",
   "metadata": {},
   "source": [
    "as the results of a measurement made every 0.1 second at times between 2 and 3.7 seconds.\n",
    "\n",
    "**a)**\n",
    "Since the measurements are supposed to be positive, change the data to 0 when the values are negative."
   ]
  },
  {
   "cell_type": "markdown",
   "id": "9eaf398f",
   "metadata": {},
   "source": [
    "**b)**\n",
    "Calculate the times for which the previous measurements are maximum."
   ]
  },
  {
   "cell_type": "markdown",
   "id": "729f1947",
   "metadata": {},
   "source": [
    "**c)**\n",
    "For each maximum measure, return the previous measure, the maximum measure, and the next measure. If the previous or the next measure does not exist, replace them with `np.nan`."
   ]
  }
 ],
 "metadata": {
  "kernelspec": {
   "display_name": "Python 3",
   "language": "python",
   "name": "python3"
  },
  "language_info": {
   "codemirror_mode": {
    "name": "ipython",
    "version": 3
   },
   "file_extension": ".py",
   "mimetype": "text/x-python",
   "name": "python",
   "nbconvert_exporter": "python",
   "pygments_lexer": "ipython3",
   "version": "3.8.5"
  }
 },
 "nbformat": 4,
 "nbformat_minor": 5
}