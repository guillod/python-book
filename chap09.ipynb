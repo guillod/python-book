{
 "cells": [
  {
   "cell_type": "markdown",
   "id": "c2270386",
   "metadata": {},
   "source": [
    "<div style=\"width:100%\"><a href=\"https://www.routledge.com/Python-Programming-for-Mathematics/Guillod/p/book/9781032910116\"><img src=\"https://python.guillod.org/book/banner1.png\"/></a></div>\n",
    "\n",
    "This file reflects the statements of the exercises of a chapter of the book *[Python Programming for Mathematics](https://www.routledge.com/Python-Programming-for-Mathematics/Guillod/p/book/9781032910116)*.\n",
    "All statements can be downloaded in [Jupyter Notebook](https://python.guillod.org/book/) format or executed directly online on [GESIS](https://notebooks.gesis.org/binder/v2/gh/guillod/python-book/HEAD).\n",
    "The answers are available in the book (ISBN [9781032910116](https://www.routledge.com/Python-Programming-for-Mathematics/Guillod/p/book/9781032910116)) and ebook (ISBN [9781003565451](https://www.routledge.com/Python-Programming-for-Mathematics/Guillod/p/book/9781003565451)) published by Chapman & Hall/CRC Press in the Python Series.\n",
    "This file reflects the exercises as published in this book and differs somewhat from the exercises presented on the page [python.guillod.org](https://python.guillod.org/)."
   ]
  },
  {
   "cell_type": "markdown",
   "id": "ed19c65d",
   "metadata": {},
   "source": [
    "# 9 Root finding"
   ]
  },
  {
   "cell_type": "markdown",
   "id": "f623bd90",
   "metadata": {},
   "source": [
    "<div id=\"ch:newton\"></div>\n",
    "\n",
    "The aim of this series of exercises is to determine the roots of a function in an approximate way, in particular by Newton's method. This allows in particular to find approximate solutions of nonlinear equations. This method is fundamental both from a numerical and an analytical point of view.\n",
    "\n",
    "**Concepts abordés:**\n",
    "\n",
    "* Newton's method in one and several dimensions\n",
    "\n",
    "* Jacobian matrix\n",
    "\n",
    "* Newton's method attractor\n",
    "\n",
    "* fractal set\n",
    "\n",
    "* optimization by parallelization\n",
    "\n",
    "* non-linear differential equation\n",
    "\n",
    "* finite differences"
   ]
  },
  {
   "cell_type": "markdown",
   "id": "748303d2",
   "metadata": {},
   "source": [
    "# Exercise 9.1: Newton's method in one dimension"
   ]
  },
  {
   "cell_type": "markdown",
   "id": "007eeed4",
   "metadata": {},
   "source": [
    "In one dimension, Newton's method consists in finding an approximate solution of a single equation. This equation can be put in the general form $F(x)=0$, where $F:\\mathbb{R}\\to\\mathbb{R}$ is a fairly regular function so, the goal is to find a zero of the function $F$. The equation $F(x)=0$ is equivalent (if $F^\\prime(x) \\neq 0$) to the equation $G(x)=x$, where $G$ is the function defined by:"
   ]
  },
  {
   "cell_type": "markdown",
   "id": "14f70feb",
   "metadata": {},
   "source": [
    "$$\n",
    "G(x) = x - \\frac{F(x)}{F^\\prime(x)} \\,.\n",
    "$$"
   ]
  },
  {
   "cell_type": "markdown",
   "id": "3cc54d9b",
   "metadata": {},
   "source": [
    "Newton's method consists in finding a fixed point of $G$, *i.e.*, solving $G(x)=x$ by successive iterations:"
   ]
  },
  {
   "cell_type": "markdown",
   "id": "e0147aa2",
   "metadata": {},
   "source": [
    "$$\n",
    "x_{i+1} = G(x_i) = x_i - \\frac{F(x_i)}{F^\\prime(x_i)} \\,,\n",
    "$$"
   ]
  },
  {
   "cell_type": "markdown",
   "id": "09535132",
   "metadata": {},
   "source": [
    "from an initial value $x_0\\in\\mathbb{R}$.\n",
    "When the sequence $(x_i)_ {i\\in\\mathbb{N}}$ converges, then the limit $x$ is a solution of $G(x)=x$ therefore of $F(x)=0$.\n",
    "\n",
    "**a)**\n",
    "Write a function `newton1d(F, DF, x0, eps=1e-10, N=1000)` that given a function $F$, its derivative $F^\\prime$, and an initial value $x_0$ computes Newton's iterations until $|F(x_{i})| < \\varepsilon$ and returns $x_{i}$. If $N$ iterations were not enough to reach this convergence criterion, then return an error."
   ]
  },
  {
   "cell_type": "markdown",
   "id": "b10abdbd",
   "metadata": {},
   "source": [
    "**b)**\n",
    "Using the function defined above, find an approximate solution of the equation $e^{-x} = x$.\n",
    "\n",
    "**Answer.**\n",
    "The solution is approximately given by $x=0.56714$."
   ]
  },
  {
   "cell_type": "markdown",
   "id": "5bad178b",
   "metadata": {},
   "source": [
    "**c)**\n",
    "Without using the function `sqrt`, `log`, or fractional powers, define a function `root(x,n)` that computes $\\sqrt[n]{x}$."
   ]
  },
  {
   "cell_type": "markdown",
   "id": "bae710e5",
   "metadata": {},
   "source": [
    "Sometimes, the derivative of the function $F$ cannot be calculated analytically, so it is necessary to approximate it numerically:"
   ]
  },
  {
   "cell_type": "markdown",
   "id": "4fb0dc3e",
   "metadata": {},
   "source": [
    "$$\n",
    "F^\\prime(x_i) \\approx \\frac{F(x_i) - F(x_{i-1})}{x_i-x_{i-1}} \\,,\n",
    "$$"
   ]
  },
  {
   "cell_type": "markdown",
   "id": "25cc5322",
   "metadata": {},
   "source": [
    "which leads to the secant method:"
   ]
  },
  {
   "cell_type": "markdown",
   "id": "3dd55cc6",
   "metadata": {},
   "source": [
    "$$\n",
    "x_{i+1} =  x_i - F(x_i) \\frac{x_i-x_{i-1}}{F(x_i) - F(x_{i-1})} = \\frac{x_{i-1}F(x_{i})-x_{i}F(x_{i-1})}{F(x_{i})-F(x_{i-1})} \\,\n",
    "$$"
   ]
  },
  {
   "cell_type": "markdown",
   "id": "2283a366",
   "metadata": {},
   "source": [
    "where $x_0$ and $x_1$ must be chosen.\n",
    "\n",
    "**d)**\n",
    "Write a method `secant1d(F, x0, x1, eps=1e-10, N=1000)` implementing the secant method and test it on the previous example."
   ]
  },
  {
   "cell_type": "markdown",
   "id": "e2aefe12",
   "metadata": {},
   "source": [
    "# Exercise 9.2: Newton's method in several dimensions"
   ]
  },
  {
   "cell_type": "markdown",
   "id": "e1107ab0",
   "metadata": {},
   "source": [
    "<div id=\"exer:newton-Rn\"></div>\n",
    "\n",
    "Newton's method in one dimension is easily generalized to several dimensions to solve equations of the form $F(\\boldsymbol{x})=\\boldsymbol{0}$, where $F:\\mathbb{R}^n \\to \\mathbb{R}^n$ is a fairly regular function.\n",
    "Conceptually, the method is identical: the equation $F(\\boldsymbol{x})=\\boldsymbol{0}$ is equivalent to $G(\\boldsymbol{x})=\\boldsymbol{x}$ with the function $G$ defined by:"
   ]
  },
  {
   "cell_type": "markdown",
   "id": "4268b86a",
   "metadata": {},
   "source": [
    "$$\n",
    "G(\\boldsymbol{x}) = \\boldsymbol{x} - \\big(F^\\prime(\\boldsymbol{x})\\big)^{-1} F(\\boldsymbol{x}) \\,,\n",
    "$$"
   ]
  },
  {
   "cell_type": "markdown",
   "id": "15db80c2",
   "metadata": {},
   "source": [
    "where $F^\\prime(\\boldsymbol{x})$ denotes the Jacobian matrix of size $n \\times n$ of $F$ in $x$.\n",
    "Thus, Newton's iterations are written:"
   ]
  },
  {
   "cell_type": "markdown",
   "id": "7aaecdfd",
   "metadata": {},
   "source": [
    "$$\n",
    "\\boldsymbol{x}_{i+1} = \\boldsymbol{x}_{i} - \\big(F^\\prime(\\boldsymbol{x}_i)\\big)^{-1} F(\\boldsymbol{x}_i) \\,.\n",
    "$$"
   ]
  },
  {
   "cell_type": "markdown",
   "id": "6b724e1d",
   "metadata": {},
   "source": [
    "**a)**\n",
    "Write a function `newton(F, DF, x0, eps=1e-12, N=10000)` implementing Newton's method in more than one dimension.\n",
    "\n",
    "**Hint.**\n",
    "To have an optimal performance, one should not invert the Jacobian matrix but solve a linear system with $F(\\boldsymbol{x}_i)$ as second member."
   ]
  },
  {
   "cell_type": "markdown",
   "id": "a4487832",
   "metadata": {},
   "source": [
    "**b)**\n",
    "Use the previous function to solve the following system:"
   ]
  },
  {
   "cell_type": "markdown",
   "id": "27745463",
   "metadata": {},
   "source": [
    "$$\n",
    "\\begin{align*}\n",
    "\\cos(x) & =\\sin(y)\\,, & e^{-x} & =\\cos(y)\\,.\n",
    "\\end{align*}\n",
    "$$"
   ]
  },
  {
   "cell_type": "markdown",
   "id": "66a8a3c6",
   "metadata": {},
   "source": [
    "**Answer.**\n",
    "A solution is approximately given by $x=0.58853$ and $y=0.98226$."
   ]
  },
  {
   "cell_type": "markdown",
   "id": "cb501110",
   "metadata": {},
   "source": [
    "# Exercise 9.3: Newton's method attractor"
   ]
  },
  {
   "cell_type": "markdown",
   "id": "1fa27257",
   "metadata": {},
   "source": [
    "The goal of this exercise is to solve the equation $z^3 = 1$ in the complex plane using Newton's method and to analyze to which of the three roots of unity the method will converge depending on the choice of the initial point $z_0$.\n",
    "\n",
    "**a)**\n",
    "If necessary, adapt the function `newton1d` so that it also applies to complex numbers and test it to solve $z^3 = 1$ from different values of $z_0$."
   ]
  },
  {
   "cell_type": "markdown",
   "id": "3ad7c51e",
   "metadata": {},
   "source": [
    "**b)**\n",
    "Determine for each $z_0 \\in \\big\\{x_0+iy_0: x_0\\in[-3,3] \\; \\text{and} \\; y_0\\in[-3,3]\\big\\}$ to which root of unity Newton's method will converge. Represent graphically this set as on the following figure.\n",
    "\n",
    "**Hint.**\n",
    "NumPy's `meshgrid` function can be useful to construct the matrix corresponding to the set of $z_0$.\n",
    "\n",
    "<center><img src=\"data:image/png;base64,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\" style=\"width:90%;max-width:600px;\"></center>"
   ]
  },
  {
   "cell_type": "markdown",
   "id": "17109964",
   "metadata": {},
   "source": [
    "**c)**\n",
    "<font color=\"red\">!</font> The previous method has the disadvantage of proceeding sequentially to the calculation for each value of $z_0$, which makes this evaluation rather slow. Propose a new implementation allowing to compute in parallel all the values of $z_0$ using NumPy indexing.\n",
    "\n",
    "**Hint.**\n",
    "To speed-up the method even more, Newton's iterations of $F(z)=z^3-1$ can be calculated by hand:"
   ]
  },
  {
   "cell_type": "markdown",
   "id": "1de9d74c",
   "metadata": {},
   "source": [
    "$$\n",
    "z_{n+1} = \\frac{1}{3z_n^2} + \\frac{2z_n}{3} \\,.\n",
    "$$"
   ]
  },
  {
   "cell_type": "markdown",
   "id": "8842c334_1",
   "metadata": {},
   "source": [
    "\n",
    "\n",
    "<!-- --- end exercise --- -->\n",
    "\n",
    "\n",
    "\n",
    "\n",
    "<!-- --- begin exercise --- -->"
   ]
  },
  {
   "cell_type": "markdown",
   "id": "ab074c3d",
   "metadata": {},
   "source": [
    "# Exercise 9.4: <font color=\"red\">!!</font> Nonlinear differential equation"
   ]
  },
  {
   "cell_type": "markdown",
   "id": "385973a5",
   "metadata": {},
   "source": [
    "<div id=\"exer:newton-nonlinear\"></div>\n",
    "\n",
    "The goal is to solve the following differential equation with boundary conditions:"
   ]
  },
  {
   "cell_type": "markdown",
   "id": "8dea2efe",
   "metadata": {},
   "source": [
    "$$\n",
    "\\begin{align*}\n",
    "u^{\\prime\\prime}(x)+u^{3}(x) & = \\sin(x) \\,, & u(0) & = u(2\\pi) = 0 \\,,\n",
    "\\end{align*}\n",
    "$$"
   ]
  },
  {
   "cell_type": "markdown",
   "id": "90341198",
   "metadata": {},
   "source": [
    "on the interval $[0,2\\pi]$. This equation is a simplified model for a nonlinear Schrödinger equation.\n",
    "\n",
    "The method used is finite differences that consists in looking for the values of $u$ at the points $x_n = \\frac{2\\pi n}{N}$ for $n=0,1,\\dots,N$. The unknowns are then the numbers $u_n = u(x_n)$ and form a vector of dimension $N+1$. The finite difference method consists in approximating the second derivative by:"
   ]
  },
  {
   "cell_type": "markdown",
   "id": "e41b22bf",
   "metadata": {},
   "source": [
    "$$\n",
    "u^{\\prime\\prime}(x) \\approx \\frac{u(x+h)-2u(x)+u(x-h)}{h^{2}} \\,,\n",
    "$$"
   ]
  },
  {
   "cell_type": "markdown",
   "id": "9d9b71a1",
   "metadata": {},
   "source": [
    "when $h$ is small.\n",
    "Taking $h=\\frac{2\\pi}{N}$, then:"
   ]
  },
  {
   "cell_type": "markdown",
   "id": "d61c65e5",
   "metadata": {},
   "source": [
    "$$\n",
    "u^{\\prime\\prime}(x_n) \\approx \\frac{u_{n+1}-2u_n+u_{n-1}}{h^{2}} \\,,\n",
    "$$"
   ]
  },
  {
   "cell_type": "markdown",
   "id": "ebb183a0",
   "metadata": {},
   "source": [
    "and so the initial equation is approximated by:"
   ]
  },
  {
   "cell_type": "markdown",
   "id": "b43e6fab",
   "metadata": {},
   "source": [
    "$$\n",
    "\\begin{align*}\n",
    "\\frac{u_{n+1}-2u_{n}+u_{n-1}}{h^{2}}+u_{n}^{3} & = \\sin(x_{n}) \\,, & u_{0} & = u_{N} = 0 \\,,\n",
    "\\end{align*}\n",
    "$$"
   ]
  },
  {
   "cell_type": "markdown",
   "id": "25c7df5d",
   "metadata": {},
   "source": [
    "for $n=1,2,\\dots,N-1$.\n",
    "This equation can be seen as an equation of the type $F(\\boldsymbol{u})=\\boldsymbol{0}$ for $\\boldsymbol{u} = (u_n)_ {n=0}^{N+1}$ and thus be solved by Newton's method.\n",
    "\n",
    "**a)**\n",
    "Show the following approximation:"
   ]
  },
  {
   "cell_type": "markdown",
   "id": "fda69a0e",
   "metadata": {},
   "source": [
    "$$\n",
    "u^{\\prime\\prime}(x) = \\frac{u(x+h)-2u(x)+u(x-h)}{h^{2}} + O(h^2) \\quad \\text{as} \\quad h \\to 0 \\,.\n",
    "$$"
   ]
  },
  {
   "cell_type": "markdown",
   "id": "a3fcd445",
   "metadata": {},
   "source": [
    "**Hint.**\n",
    "Use Taylor's theorem."
   ]
  },
  {
   "cell_type": "markdown",
   "id": "a973606d",
   "metadata": {},
   "source": [
    "**b)**\n",
    "Define a vector `x` representing $N+1$ evenly spaced points in $[0,2\\pi]$ and `h` the distance between the points, with, for example, $N=200$."
   ]
  },
  {
   "cell_type": "markdown",
   "id": "dd5bc837",
   "metadata": {},
   "source": [
    "**c)**\n",
    "Define a function `F(u)` representing the function $F:\\mathbb{R}^{N+1} \\to \\mathbb{R}^{N+1}$ allowing to put the approximated equation in the form $F(\\boldsymbol{u})=\\boldsymbol{0}$.\n",
    "\n",
    "**Hint.**\n",
    "To have a fast implementation, it is imperative to use the NumPy slicing instead of a loop to build $F$."
   ]
  },
  {
   "cell_type": "markdown",
   "id": "39e8685d",
   "metadata": {},
   "source": [
    "**d)**\n",
    "Define a function `DF(u)` representing the Jacobian of the previous function.\n",
    "\n",
    "**Hint.**\n",
    "The Jacobian is the derivative of $F(\\boldsymbol{u})=F(u_0,u_1,\\dots,u_{N})$ with respect to $\\boldsymbol{u} = (u_0,u_1,\\dots,u_{N})$, *i.e.*:"
   ]
  },
  {
   "cell_type": "markdown",
   "id": "85b7ace7",
   "metadata": {},
   "source": [
    "$$\n",
    "F^{\\prime}(\\boldsymbol{u})=\\begin{pmatrix}\\partial_{0}F(\\boldsymbol{u}) & \\partial_{1}F(\\boldsymbol{u}) & \\partial_{2}F(\\boldsymbol{u}) & \\cdots & \\partial_{N-1}F(\\boldsymbol{u}) & \\partial_{N}F(\\boldsymbol{u})\\end{pmatrix}\\,,\n",
    "$$"
   ]
  },
  {
   "cell_type": "markdown",
   "id": "327cb035",
   "metadata": {},
   "source": [
    "and can be calculated explicitly by hand."
   ]
  },
  {
   "cell_type": "markdown",
   "id": "b300f508",
   "metadata": {},
   "source": [
    "**e)**\n",
    "Use the `newton` function defined earlier to calculate an approximate solution of the equation. By changing the initial values, is it possible to find other solutions?\n",
    "\n",
    "**Hint.**\n",
    "Try with the initial data $u_0(x) = (1+k)\\sin(kx)$ for $k=1,2,3,4$ as the starting point of Newton's method."
   ]
  }
 ],
 "metadata": {
  "kernelspec": {
   "display_name": "Python 3",
   "language": "python",
   "name": "python3"
  },
  "language_info": {
   "codemirror_mode": {
    "name": "ipython",
    "version": 3
   },
   "file_extension": ".py",
   "mimetype": "text/x-python",
   "name": "python",
   "nbconvert_exporter": "python",
   "pygments_lexer": "ipython3",
   "version": "3.8.5"
  }
 },
 "nbformat": 4,
 "nbformat_minor": 5
}