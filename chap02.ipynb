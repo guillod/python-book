{
 "cells": [
  {
   "cell_type": "markdown",
   "id": "c2270386",
   "metadata": {},
   "source": [
    "<div style=\"width:100%\"><a href=\"https://www.routledge.com/Python-Programming-for-Mathematics/Guillod/p/book/9781032910116\"><img src=\"https://python.guillod.org/book/banner1.png\"/></a></div>\n",
    "\n",
    "This file reflects the statements of the exercises of a chapter of the book *[Python Programming for Mathematics](https://www.routledge.com/Python-Programming-for-Mathematics/Guillod/p/book/9781032910116)*.\n",
    "All statements can be downloaded in [Jupyter Notebook](https://python.guillod.org/book/) format or executed directly online on [GESIS](https://notebooks.gesis.org/binder/v2/gh/guillod/python-book/HEAD).\n",
    "The answers are available in the book (ISBN [9781032910116](https://www.routledge.com/Python-Programming-for-Mathematics/Guillod/p/book/9781032910116)) and ebook (ISBN [9781003565451](https://www.routledge.com/Python-Programming-for-Mathematics/Guillod/p/book/9781003565451)) published by Chapman & Hall/CRC Press in the Python Series.\n",
    "This file reflects the exercises as published in this book and differs somewhat from the exercises presented on the page [python.guillod.org](https://python.guillod.org/)."
   ]
  },
  {
   "cell_type": "markdown",
   "id": "8476369e",
   "metadata": {},
   "source": [
    "# 2 Data structures"
   ]
  },
  {
   "cell_type": "markdown",
   "id": "50becc39",
   "metadata": {},
   "source": [
    "<div id=\"ch:structures\"></div>\n",
    "\n",
    "To represent data structures, Python offers four basic types: lists (type `list`), tuples (type `tuple`), sets (type `set`), and dictionaries (type `dict`). The purpose of this chapter is to show the fundamental differences between these data structures and to explain what they are best suited for. Detailed documentation on data structures is available [here](https://docs.python.org/3/tutorial/datastructures.html).\n",
    "\n",
    "**Concepts abordés:**\n",
    "\n",
    "* data structures (list, tuple, set, dictionary)\n",
    "\n",
    "* mutable and immutable types\n",
    "\n",
    "* hashable type\n",
    "\n",
    "* list, set and dictionary comprehensions\n",
    "\n",
    "* numerical series"
   ]
  },
  {
   "cell_type": "markdown",
   "id": "6fa35588",
   "metadata": {},
   "source": [
    "# Exercise 2.1: Lists"
   ]
  },
  {
   "cell_type": "markdown",
   "id": "805b7ee4",
   "metadata": {},
   "source": [
    "<div id=\"exer:structures-listes\"></div>\n",
    "\n",
    "A list is a structure allowing to store heterogeneous elements:"
   ]
  },
  {
   "cell_type": "code",
   "execution_count": 1,
   "id": "306eac3b",
   "metadata": {
    "collapsed": false
   },
   "outputs": [],
   "source": [
    "list0 = [0, 5.4, \"string\", True]"
   ]
  },
  {
   "cell_type": "markdown",
   "id": "ccf49db3",
   "metadata": {},
   "source": [
    "Lists are mutable, *i.e.*, it is possible to modify an element, add one or delete one, without having to redefine the whole list."
   ]
  },
  {
   "cell_type": "code",
   "execution_count": 2,
   "id": "fb8cb3c9",
   "metadata": {
    "collapsed": false
   },
   "outputs": [],
   "source": [
    "list0[3] = False # replace True by False\n",
    "list0.append(\"new\") # add the string \"new\" to the list\n",
    "list0.insert(2, 34) # insert 34 in place of 2\n",
    "list0.remove(0) # remove 0"
   ]
  },
  {
   "cell_type": "markdown",
   "id": "42df388b",
   "metadata": {},
   "source": [
    "In particular, care must be taken when copying a list. If we execute the following code:"
   ]
  },
  {
   "cell_type": "code",
   "execution_count": 3,
   "id": "bd24898c",
   "metadata": {
    "collapsed": false
   },
   "outputs": [],
   "source": [
    "list1 = list0\n",
    "list1[2] = \"change\"\n",
    "list0"
   ]
  },
  {
   "cell_type": "markdown",
   "id": "b561a4d1",
   "metadata": {},
   "source": [
    "then `list0` is also modified and is equal to `list1`. To create a real copy, you have to use the following code:"
   ]
  },
  {
   "cell_type": "code",
   "execution_count": 4,
   "id": "0db71ec0",
   "metadata": {
    "collapsed": false
   },
   "outputs": [],
   "source": [
    "list2 = list0.copy()\n",
    "list2[2] = \"rechange\"\n",
    "list0"
   ]
  },
  {
   "cell_type": "markdown",
   "id": "1b6652bd",
   "metadata": {},
   "source": [
    "which does not modify `list0`.\n",
    "Note that it is possible to modify the elements of a list inside a function:"
   ]
  },
  {
   "cell_type": "code",
   "execution_count": 5,
   "id": "615319a4",
   "metadata": {
    "collapsed": false
   },
   "outputs": [],
   "source": [
    "def f(l):\n",
    "    l[0] = 0\n",
    "f(list0)"
   ]
  },
  {
   "cell_type": "markdown",
   "id": "81f88f6d",
   "metadata": {},
   "source": [
    "Finally, it is possible to create lists with the help of list comprehension:"
   ]
  },
  {
   "cell_type": "code",
   "execution_count": 6,
   "id": "651fcdd9",
   "metadata": {
    "collapsed": false
   },
   "outputs": [],
   "source": [
    "list1 = [2*i+1 for i in range(10)]"
   ]
  },
  {
   "cell_type": "markdown",
   "id": "ecdc95b8",
   "metadata": {},
   "source": [
    "**a)**\n",
    "Search the documentation for the syntax to concatenate two lists.\n",
    "\n",
    "**Hint.**\n",
    "See the documentation [here](https://docs.python.org/3/library/stdtypes.html#sequence-types-list-tuple-range)."
   ]
  },
  {
   "cell_type": "markdown",
   "id": "2e73eda8",
   "metadata": {},
   "source": [
    "**b)**\n",
    "Look in the documentation for the syntax to extract a slice from a list, *i.e.*, if `a` is, for example, a list of length 10, return the elements from 6 to 9.\n",
    "\n",
    "**Hint.**\n",
    "See the documentation [here](https://docs.python.org/3/library/stdtypes.html#sequence-types-list-tuple-range)."
   ]
  },
  {
   "cell_type": "markdown",
   "id": "5142f990",
   "metadata": {},
   "source": [
    "**c)**\n",
    "Search the documentation for the syntax to return the length of a list."
   ]
  },
  {
   "cell_type": "markdown",
   "id": "ec05e7a0",
   "metadata": {},
   "source": [
    "**d)**\n",
    "Write a function `fibonacci(N)` that returns the list of $N$ first terms of the Fibonacci sequence defined by $u_{n+2} = u_{n+1}+u_n$ with $u_0=0$ and $u_1=1$."
   ]
  },
  {
   "cell_type": "markdown",
   "id": "163dc709",
   "metadata": {},
   "source": [
    "**e)**\n",
    "Write a function `pascal(N)` that returns the $N$-th line of Pascal's triangle:\n",
    "\n",
    "<center><img src=\"data:image/png;base64,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\" style=\"width:90%;max-width:150px;\"></center>"
   ]
  },
  {
   "cell_type": "markdown",
   "id": "541a598c",
   "metadata": {},
   "source": [
    "**f)**\n",
    "Let $(u_n)_{n\\in\\mathbb{N}}$ and $(v_n)_{n\\in\\mathbb{N}}$ be the sequences defined by $u_0=1$, $v_0=1$, and"
   ]
  },
  {
   "cell_type": "markdown",
   "id": "f1b58ae8",
   "metadata": {},
   "source": [
    "$$\n",
    "\\begin{align*}\n",
    "u_{n+1} &= u_n + v_n \\,, & v_{n+1} &= 2u _n - v_n \\,,\n",
    "\\end{align*}\n",
    "$$"
   ]
  },
  {
   "cell_type": "markdown",
   "id": "9d92e57c",
   "metadata": {},
   "source": [
    "for $n\\geq0$. Calculate $u_{100}$ and $v_{100}$.\n",
    "\n",
    "**Answer.**\n",
    "$u_{100}=v_{100}=717897987691852588770249$."
   ]
  },
  {
   "cell_type": "markdown",
   "id": "0cbe8af2",
   "metadata": {},
   "source": [
    "**g)**\n",
    "Write a function `vk(n0,K)`, which for two integers $n_0$ and $K\\geq1$ computes the sequence of values $v_k$ defined by $v_0 = n_0$ and"
   ]
  },
  {
   "cell_type": "markdown",
   "id": "c37f0e6c",
   "metadata": {},
   "source": [
    "$$\n",
    "v_{k+1}=\\begin{cases}\n",
    "3v_{k}+1 & \\text{if $v_{k}$ is odd},\\\\ \n",
    "\\frac{v_{k}}{2} & \\text{if $v_{k}$ is even},\n",
    "\\end{cases}\n",
    "$$"
   ]
  },
  {
   "cell_type": "markdown",
   "id": "e55bdc0b",
   "metadata": {},
   "source": [
    "for $0 \\leq k < K$. For $K = 1 000$ and various values of $n_0 \\in \\{10, 100, 1 000, 10 000\\}$, display the last five calculated values, *i.e.*, $(v_{K-4},v_{K-3},v_{K-2},v_{K-1},v_K)$.\n",
    "\n",
    "**Answer.**\n",
    "The following statements are true:"
   ]
  },
  {
   "cell_type": "code",
   "execution_count": 13,
   "id": "6a068d15",
   "metadata": {
    "collapsed": false
   },
   "outputs": [],
   "source": [
    "vk(10,1000) == [1, 4, 2, 1, 4]\n",
    "vk(100,1000) == [2, 1, 4, 2, 1]\n",
    "vk(1000,1000) == [1, 4, 2, 1, 4]\n",
    "vk(10000,1000) == [4, 2, 1, 4, 2]"
   ]
  },
  {
   "cell_type": "markdown",
   "id": "bed7f4aa",
   "metadata": {},
   "source": [
    "\n",
    "<!-- --- end exercise --- -->\n",
    "\n",
    "\n",
    "\n",
    "\n",
    "<!-- --- begin exercise --- -->"
   ]
  },
  {
   "cell_type": "markdown",
   "id": "6b3af0d5",
   "metadata": {},
   "source": [
    "# Exercise 2.2: Tuples"
   ]
  },
  {
   "cell_type": "markdown",
   "id": "047cb5f7",
   "metadata": {},
   "source": [
    "<div id=\"exer:structures-tuples\"></div>\n",
    "\n",
    "Tuples allow, just like lists, to store heterogeneous elements:"
   ]
  },
  {
   "cell_type": "code",
   "execution_count": 15,
   "id": "d9a7499c",
   "metadata": {
    "collapsed": false
   },
   "outputs": [],
   "source": [
    "tuple0 = (0, 5.4, \"string\", True)"
   ]
  },
  {
   "cell_type": "markdown",
   "id": "ad897299",
   "metadata": {},
   "source": [
    "But unlike lists, tuples are not mutable. It is not possible to modify an element, add one or delete one, without redefining the whole tuple. The advantage of a tuple over a list is that it is hashable, *i.e.*, it can be used as a key in a dictionary.\n",
    "\n",
    "Finally, it is possible to assign variables inside a tuple, for example:"
   ]
  },
  {
   "cell_type": "code",
   "execution_count": 16,
   "id": "150cd797",
   "metadata": {
    "collapsed": false
   },
   "outputs": [],
   "source": [
    "(a,b) = (1,9)"
   ]
  },
  {
   "cell_type": "markdown",
   "id": "a75a0c28",
   "metadata": {},
   "source": [
    "This is especially useful for exchanging two variables without having to use an additional variable:"
   ]
  },
  {
   "cell_type": "code",
   "execution_count": 17,
   "id": "f6652fc5",
   "metadata": {
    "collapsed": false
   },
   "outputs": [],
   "source": [
    "(a,b) = (b,a)"
   ]
  },
  {
   "cell_type": "markdown",
   "id": "a86b0ac3",
   "metadata": {},
   "source": [
    "**a)**\n",
    "Check that a tuple is immutable."
   ]
  },
  {
   "cell_type": "markdown",
   "id": "35bd35bb",
   "metadata": {},
   "source": [
    "**b)**\n",
    "Define a function `mdlast(lst,val)` having as argument a list of integer tuples `lst` and an integer `val` and return the list of tuples with the last element of each tuple replaced by `val`.\n",
    "For example, if `lst = [(10, 20), (30, 40, 50, 60), (70, 80, 90)]`, then `mdlast(lst,100)` should return `[(10, 100), (30, 40, 50, 100), (70, 80, 100)]`."
   ]
  },
  {
   "cell_type": "markdown",
   "id": "d11f4cc0",
   "metadata": {},
   "source": [
    "**c)**\n",
    "How to convert a tuple into a list and vice versa?"
   ]
  },
  {
   "cell_type": "markdown",
   "id": "a03e85dc",
   "metadata": {},
   "source": [
    "# Exercise 2.3: Sets"
   ]
  },
  {
   "cell_type": "markdown",
   "id": "3d16d946",
   "metadata": {},
   "source": [
    "<div id=\"exer:structures-ensembles\"></div>\n",
    "\n",
    "Sets are used to store heterogeneous elements in the mathematical sense of set theory:"
   ]
  },
  {
   "cell_type": "code",
   "execution_count": 21,
   "id": "a20875cf",
   "metadata": {
    "collapsed": false
   },
   "outputs": [],
   "source": [
    "set0 = {0, 5.4, \"string\", True}"
   ]
  },
  {
   "cell_type": "markdown",
   "id": "31e61791",
   "metadata": {},
   "source": [
    "It is possible to test if an element belongs to a set:"
   ]
  },
  {
   "cell_type": "code",
   "execution_count": 22,
   "id": "590e0666",
   "metadata": {
    "collapsed": false
   },
   "outputs": [],
   "source": [
    "if \"string\" in set0:\n",
    "    print(\"inside\")"
   ]
  },
  {
   "cell_type": "markdown",
   "id": "f7037029",
   "metadata": {},
   "source": [
    "Sets are mutable, so it is possible to add or remove an element from a set:"
   ]
  },
  {
   "cell_type": "code",
   "execution_count": 23,
   "id": "dc11e588",
   "metadata": {
    "collapsed": false
   },
   "outputs": [],
   "source": [
    "set0.add(18) # add 18 to the set\n",
    "set0.add(0) # add 0 to the set (this does nothing as 0 already belongs to the set)\n",
    "set0.remove(\"string\") # remove \"string to the set"
   ]
  },
  {
   "cell_type": "markdown",
   "id": "32ede7e4",
   "metadata": {},
   "source": [
    "On the other hand, sets can only contain hashable elements, *i.e.*, immutable. In particular a set cannot contain another set:"
   ]
  },
  {
   "cell_type": "code",
   "execution_count": 24,
   "id": "5713ade9",
   "metadata": {
    "collapsed": false
   },
   "outputs": [],
   "source": [
    "set1 = {{1,2},{3},{4}}\n",
    "TypeError: unhashable type: 'set'"
   ]
  },
  {
   "cell_type": "markdown",
   "id": "0c552215",
   "metadata": {},
   "source": [
    "Note that in Python there are also immutable sets, called `frozenset`:"
   ]
  },
  {
   "cell_type": "code",
   "execution_count": 25,
   "id": "a81abea0",
   "metadata": {
    "collapsed": false
   },
   "outputs": [],
   "source": [
    "frozenset0 = frozenset([0, 5.4, \"string\", True])"
   ]
  },
  {
   "cell_type": "markdown",
   "id": "6ebc253e",
   "metadata": {},
   "source": [
    "A string can be transformed into a set:"
   ]
  },
  {
   "cell_type": "code",
   "execution_count": 26,
   "id": "b24b179d",
   "metadata": {
    "collapsed": false
   },
   "outputs": [],
   "source": [
    "set1 = set('abracadabra')"
   ]
  },
  {
   "cell_type": "markdown",
   "id": "0aa65737",
   "metadata": {},
   "source": [
    "As with lists, it is possible to make set comprehensions:"
   ]
  },
  {
   "cell_type": "code",
   "execution_count": 27,
   "id": "2559dbf3",
   "metadata": {
    "collapsed": false
   },
   "outputs": [],
   "source": [
    "set2 = {x for x in 'abracadabra' if x not in 'abc'}"
   ]
  },
  {
   "cell_type": "markdown",
   "id": "062e5720",
   "metadata": {},
   "source": [
    "In this example, strings are automatically transformed into sets.\n",
    "Note that the empty set is defined by `set()`.\n",
    "\n",
    "**a)**\n",
    "Define a function `divisible(n)` that returns the set of integers divisible by `n` less than or equal to 100."
   ]
  },
  {
   "cell_type": "markdown",
   "id": "69b8509f",
   "metadata": {},
   "source": [
    "**b)**\n",
    "Search the literature to find the intersection, union, and difference of two sets. Determine the numbers less than or equal to 100 that are not divisible by 2 but divisible by 3 and 5.\n",
    "\n",
    "**Hint.**\n",
    "See the documentation of `set` [here](https://docs.python.org/3/library/stdtypes.html#set)."
   ]
  },
  {
   "cell_type": "markdown",
   "id": "656c5b3e",
   "metadata": {},
   "source": [
    "# Exercise 2.4: Dictionaries"
   ]
  },
  {
   "cell_type": "markdown",
   "id": "6ea1a4f4",
   "metadata": {},
   "source": [
    "<div id=\"exer:structures-dictionnaires\"></div>\n",
    "\n",
    "Dictionaries are a structure allowing to store heterogeneous elements indexed by keys (also heterogeneous):"
   ]
  },
  {
   "cell_type": "code",
   "execution_count": 31,
   "id": "10fd15f8",
   "metadata": {
    "collapsed": false
   },
   "outputs": [],
   "source": [
    "dict0 = {\"apples\": 0, \"pears\": 4, 12: 2}"
   ]
  },
  {
   "cell_type": "markdown",
   "id": "4945bfbb",
   "metadata": {},
   "source": [
    "The elements of a dictionary are accessible through the keys:"
   ]
  },
  {
   "cell_type": "code",
   "execution_count": 32,
   "id": "9afbba19",
   "metadata": {
    "collapsed": false
   },
   "outputs": [],
   "source": [
    "dict0[\"apples\"]\n",
    "dict0[12]"
   ]
  },
  {
   "cell_type": "markdown",
   "id": "75ca850e",
   "metadata": {},
   "source": [
    "A dictionary can be seen as an associative array associating to each key a value. The list of keys and the list of values are accessible, respectively, with `dict0.keys()` and `dict0.values()`.\n",
    "Dictionaries are mutable, so it is possible to modify a key-value association and to add or remove one:"
   ]
  },
  {
   "cell_type": "code",
   "execution_count": 33,
   "id": "2547caa1",
   "metadata": {
    "collapsed": false
   },
   "outputs": [],
   "source": [
    "dict0[\"apples\"] = 3 # modify the value associated to apples\n",
    "dict0[\"oranges\"] = \"many\" # add oranges as key with value \"many\"\n",
    "del dict0[\"pears\"] # remove the key pears, hence the value\n",
    "dict0.pop(\"apples\") # remove the key apples, hence the value"
   ]
  },
  {
   "cell_type": "markdown",
   "id": "06293aa6",
   "metadata": {},
   "source": [
    "Although a dictionary is mutable, the keys that compose it must be hashable objects, *i.e.*, immutable. Thus, a list or a set cannot be used as keys in a dictionary:"
   ]
  },
  {
   "cell_type": "code",
   "execution_count": 34,
   "id": "c29c665b",
   "metadata": {
    "collapsed": false
   },
   "outputs": [],
   "source": [
    "dict0[list0] = \"test\"\n",
    "TypeError: unhashable type: 'list'\n",
    "dict0[set0] = \"retest\"\n",
    "TypeError: unhashable type: 'set'"
   ]
  },
  {
   "cell_type": "markdown",
   "id": "33dda3fa",
   "metadata": {},
   "source": [
    "On the other hand, it is possible to have a tuple or a frozenset as a key:"
   ]
  },
  {
   "cell_type": "code",
   "execution_count": 35,
   "id": "3aa0f4ce",
   "metadata": {
    "collapsed": false
   },
   "outputs": [],
   "source": [
    "dict0[tuple0] = \"test\"\n",
    "dict0[frozenset0] = \"rest\""
   ]
  },
  {
   "cell_type": "markdown",
   "id": "5e68b0ba",
   "metadata": {},
   "source": [
    "hence the interest of frozensets.\n",
    "As for lists and sets, it is possible to make dictionary comprehensions:"
   ]
  },
  {
   "cell_type": "code",
   "execution_count": 36,
   "id": "46a223c8",
   "metadata": {
    "collapsed": false
   },
   "outputs": [],
   "source": [
    "dict1 = {x: x**2 for x in range(5)}"
   ]
  },
  {
   "cell_type": "markdown",
   "id": "c2f30397",
   "metadata": {},
   "source": [
    "Finally, an interesting thing about dictionaries is the unpacking illustrated by the following example:"
   ]
  },
  {
   "cell_type": "code",
   "execution_count": 37,
   "id": "8cf78808",
   "metadata": {
    "collapsed": false
   },
   "outputs": [],
   "source": [
    "def add(a=0, b=0):\n",
    "    return a + b\n",
    "d = {'a': 2, 'b': 3}\n",
    "add(**d)"
   ]
  },
  {
   "cell_type": "markdown",
   "id": "6688172e",
   "metadata": {},
   "source": [
    "**a)**\n",
    "How to define an empty dictionary?"
   ]
  },
  {
   "cell_type": "markdown",
   "id": "c80a32a3",
   "metadata": {},
   "source": [
    "**b)**\n",
    "How to concatenate several dictionaries together?"
   ]
  },
  {
   "cell_type": "markdown",
   "id": "a36f4512",
   "metadata": {},
   "source": [
    "**c)**\n",
    "We consider a list of words:"
   ]
  },
  {
   "cell_type": "code",
   "execution_count": 41,
   "id": "1666424b",
   "metadata": {
    "collapsed": false
   },
   "outputs": [],
   "source": [
    "words = ['Apricot', 'Cranberry', 'Pineapple', 'Banana', 'Blackcurrant', 'Cherry', 'Lemon', 'Clementine', 'Quince', 'Date', 'Strawberry', 'Raspberry', 'Pomegranate', 'Gooseberry', 'Persimmon', 'Kiwi', 'Litchi', 'Mandarin', 'Mango', 'Melon', 'Mirabelle', 'Nectarine', 'Orange', 'Grapefruit', 'Papaya', 'Peach', 'Pear', 'Apple', 'Plum', 'Grape']"
   ]
  },
  {
   "cell_type": "markdown",
   "id": "d280b1c7",
   "metadata": {},
   "source": [
    "Write a function `position(words, x, n)` that returns the list of words with the character `x` as their `n`-th letter (starting from zero, as in Python).\n",
    "\n",
    "**Answer.**\n",
    "For example, `position(words,'e',4)` should return the list:"
   ]
  },
  {
   "cell_type": "code",
   "execution_count": 42,
   "id": "19c60fd5",
   "metadata": {
    "collapsed": false
   },
   "outputs": [],
   "source": [
    "['Clementine', 'Gooseberry', 'Grapefruit', 'Apple', 'Grape']"
   ]
  },
  {
   "cell_type": "markdown",
   "id": "9591904b",
   "metadata": {},
   "source": [
    "\n",
    "**d)**\n",
    "Assuming that the list of words is very long, then each time the `position` function is evaluated, the whole set of words is searched, which takes quite a long time. To improve this, build a dictionary `mots_dict` having as keys the tuples `(x,n)` and as values the list of words having the character `x` as `n`-th letter, *i.e.*, such that `mots_dict[x,n]` returns the same thing as `position(words, x , n)` except for the order.\n",
    "Thus, the `words` list is traversed only once during dictionary construction and then dictionary evaluation is extremely fast for any query.\n",
    "\n"
   ]
  }
 ],
 "metadata": {
  "kernelspec": {
   "display_name": "Python 3",
   "language": "python",
   "name": "python3"
  },
  "language_info": {
   "codemirror_mode": {
    "name": "ipython",
    "version": 3
   },
   "file_extension": ".py",
   "mimetype": "text/x-python",
   "name": "python",
   "nbconvert_exporter": "python",
   "pygments_lexer": "ipython3",
   "version": "3.8.5"
  }
 },
 "nbformat": 4,
 "nbformat_minor": 5
}