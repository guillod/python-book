{
 "cells": [
  {
   "cell_type": "markdown",
   "id": "c2270386",
   "metadata": {},
   "source": [
    "<div style=\"width:100%\"><a href=\"https://www.routledge.com/Python-Programming-for-Mathematics/Guillod/p/book/9781032910116\"><img src=\"https://python.guillod.org/book/banner1.png\"/></a></div>\n",
    "\n",
    "This file reflects the statements of the exercises of a chapter of the book *[Python Programming for Mathematics](https://www.routledge.com/Python-Programming-for-Mathematics/Guillod/p/book/9781032910116)*.\n",
    "All statements can be downloaded in [Jupyter Notebook](https://python.guillod.org/book/) format or executed directly online on [GESIS](https://notebooks.gesis.org/binder/v2/gh/guillod/python-book/HEAD).\n",
    "The answers are available in the book (ISBN [9781032910116](https://www.routledge.com/Python-Programming-for-Mathematics/Guillod/p/book/9781032910116)) and ebook (ISBN [9781003565451](https://www.routledge.com/Python-Programming-for-Mathematics/Guillod/p/book/9781003565451)) published by Chapman & Hall/CRC Press in the Python Series.\n",
    "This file reflects the exercises as published in this book and differs somewhat from the exercises presented on the page [python.guillod.org](https://python.guillod.org/)."
   ]
  },
  {
   "cell_type": "markdown",
   "id": "7642789d",
   "metadata": {},
   "source": [
    "# 12 Data science"
   ]
  },
  {
   "cell_type": "markdown",
   "id": "fd8e851e",
   "metadata": {},
   "source": [
    "<div id=\"ch:data-science\"></div>\n",
    "\n",
    "The methodology of data science is to use available data (usally a large amount) to answers questions.\n",
    "Dealing with large number of data is not very practical with Python's default data structures or NumPy.\n",
    "First, the Pandas module specially designed for data analysis will be presented.\n",
    "The Pandas documentation is available [here](https://pandas.pydata.org/docs/).\n",
    "\n",
    "To load the Pandas module, it is usual to proceed as follows:"
   ]
  },
  {
   "cell_type": "code",
   "execution_count": 1,
   "id": "84a7c2e3",
   "metadata": {
    "collapsed": false
   },
   "outputs": [],
   "source": [
    "import pandas as pd"
   ]
  },
  {
   "cell_type": "markdown",
   "id": "2e993ea9",
   "metadata": {},
   "source": [
    "Next, real data will be analyzed by making statistics on the proportion of numbers beginning with a certain digit, as well as determining trends.\n",
    "Finally, three aspects of machine learning will be examined, with handwritten digit recognition, automatic differentiation, and the use of a neural network.\n",
    "\n",
    "**Concepts abordés:**\n",
    "\n",
    "* data import and analysis\n",
    "\n",
    "* use of Pandas\n",
    "\n",
    "* Benford's law\n",
    "\n",
    "* least-squares methods\n",
    "\n",
    "* image classification\n",
    "\n",
    "* automatic differentiation\n",
    "\n",
    "* neural networks"
   ]
  },
  {
   "cell_type": "markdown",
   "id": "2afcd3fd",
   "metadata": {},
   "source": [
    "# Exercise 12.1: Introduction to Pandas"
   ]
  },
  {
   "cell_type": "markdown",
   "id": "f68a999b",
   "metadata": {},
   "source": [
    "**Creation.**\n",
    "In Pandas, a data table is a `DataFrame` and constructing a table can be done manually from a dictionary, for example:"
   ]
  },
  {
   "cell_type": "code",
   "execution_count": 2,
   "id": "c1df3721",
   "metadata": {
    "collapsed": false
   },
   "outputs": [],
   "source": [
    "df = pd.DataFrame(\n",
    "    {\n",
    "        \"Name\": [\n",
    "            \"Braund, Mr. Owen Harris\",\n",
    "            \"Allen, Mr. William Henry\",\n",
    "            \"Bonnell, Miss. Elizabeth\",\n",
    "        ],\n",
    "        \"Age\": [22, 35, 58],\n",
    "        \"Sex\": [\"male\", \"male\", \"female\"],\n",
    "    }\n",
    ")"
   ]
  },
  {
   "cell_type": "markdown",
   "id": "f7450a79",
   "metadata": {},
   "source": [
    "In Jupyter Lab, it suffices to execute the cell:"
   ]
  },
  {
   "cell_type": "code",
   "execution_count": 3,
   "id": "c4378b23",
   "metadata": {
    "collapsed": false
   },
   "outputs": [],
   "source": [
    "df"
   ]
  },
  {
   "cell_type": "markdown",
   "id": "9faacf38",
   "metadata": {},
   "source": [
    "to display the table. One can see here, it consists of three columns (with given labels) and three rows that are labeled by integers by default.\n",
    "\n",
    "**Columns extraction.**\n",
    "One single column of a `DataFrame` is called a `Series` and can be extracted easily:"
   ]
  },
  {
   "cell_type": "code",
   "execution_count": 4,
   "id": "55e68ac5",
   "metadata": {
    "collapsed": false
   },
   "outputs": [],
   "source": [
    "df[\"Age\"]"
   ]
  },
  {
   "cell_type": "markdown",
   "id": "cba4059e",
   "metadata": {},
   "source": [
    "On such a column, statistics can be done in a simple way, for exemple, to determine the oldest people and the mean age:"
   ]
  },
  {
   "cell_type": "code",
   "execution_count": 5,
   "id": "cf02227a",
   "metadata": {
    "collapsed": false
   },
   "outputs": [],
   "source": [
    "df[\"Age\"].max(), df[\"Age\"].mean()"
   ]
  },
  {
   "cell_type": "markdown",
   "id": "ddecf11e",
   "metadata": {},
   "source": [
    "Two columns can also be extracted:"
   ]
  },
  {
   "cell_type": "code",
   "execution_count": 6,
   "id": "c81be312",
   "metadata": {
    "collapsed": false
   },
   "outputs": [],
   "source": [
    "df[[\"Age\", \"Sex\"]]"
   ]
  },
  {
   "cell_type": "markdown",
   "id": "2f348586",
   "metadata": {},
   "source": [
    "**New column creation.**\n",
    "One can also add additional data, for example, a new column with 100 over the ages:"
   ]
  },
  {
   "cell_type": "code",
   "execution_count": 7,
   "id": "e064ff8e",
   "metadata": {
    "collapsed": false
   },
   "outputs": [],
   "source": [
    "df[\"Age inv\"] = 100/df[\"Age\"]\n",
    "df"
   ]
  },
  {
   "cell_type": "markdown",
   "id": "e12b9770",
   "metadata": {},
   "source": [
    "We note that such operation are elementwise so there is no need for a loop, in the same spirt as NumPy, even for more complex logic:"
   ]
  },
  {
   "cell_type": "code",
   "execution_count": 8,
   "id": "7916bd80",
   "metadata": {
    "collapsed": false
   },
   "outputs": [],
   "source": [
    "def myfunction(l):\n",
    "    if l[\"Sex\"] == \"male\":\n",
    "        return l[\"Age\"]+5\n",
    "    else:\n",
    "        return l[\"Age\"]+2\n",
    "df[\"Age new\"] = df.apply(myfunction, axis=1)"
   ]
  },
  {
   "cell_type": "markdown",
   "id": "b0179727",
   "metadata": {},
   "source": [
    "**Rows extraction.**\n",
    "Selecting rows satisfying some criterion is very important and quite simple, for example, people being more than 30 years old:"
   ]
  },
  {
   "cell_type": "code",
   "execution_count": 9,
   "id": "3a0b3ed2",
   "metadata": {
    "collapsed": false
   },
   "outputs": [],
   "source": [
    "df[df[\"Age\"]>30]"
   ]
  },
  {
   "cell_type": "markdown",
   "id": "ffe4f357",
   "metadata": {},
   "source": [
    "or female being more than 30 years old:"
   ]
  },
  {
   "cell_type": "code",
   "execution_count": 10,
   "id": "78eae84c",
   "metadata": {
    "collapsed": false
   },
   "outputs": [],
   "source": [
    "df[(df[\"Age\"]>30) & (df[\"Sex\"]==\"female\")]"
   ]
  },
  {
   "cell_type": "markdown",
   "id": "878d461a",
   "metadata": {},
   "source": [
    "This concept is very similar to NumPy indexing. For a more complex selection, we could use the following syntax:"
   ]
  },
  {
   "cell_type": "code",
   "execution_count": 11,
   "id": "38438cd1",
   "metadata": {
    "collapsed": false
   },
   "outputs": [],
   "source": [
    "value=3\n",
    "df.query('`Age inv`>@value and Sex==\"male\"')"
   ]
  },
  {
   "cell_type": "markdown",
   "id": "899048fc",
   "metadata": {},
   "source": [
    "**Slicing.**\n",
    "Similar to NumPy, it is possible to use slicing to select part ot the table:"
   ]
  },
  {
   "cell_type": "code",
   "execution_count": 12,
   "id": "77fb8b31",
   "metadata": {
    "collapsed": false
   },
   "outputs": [],
   "source": [
    "df.loc[0:1, \"Sex\":\"Age new\"]"
   ]
  },
  {
   "cell_type": "markdown",
   "id": "4780ad38",
   "metadata": {},
   "source": [
    "Note that the end points are included, unlike the standard Python method. However, here is slicing without endpoints:"
   ]
  },
  {
   "cell_type": "code",
   "execution_count": 13,
   "id": "d2fffdb0",
   "metadata": {
    "collapsed": false
   },
   "outputs": [],
   "source": [
    "df.iloc[0:2,3:5]"
   ]
  },
  {
   "cell_type": "markdown",
   "id": "5fc61203",
   "metadata": {},
   "source": [
    "**Plotting.**\n",
    "Finally, data can be represented graphically in various ways. The simplest way is to do:"
   ]
  },
  {
   "cell_type": "code",
   "execution_count": 14,
   "id": "dd9a6fa6",
   "metadata": {
    "collapsed": false
   },
   "outputs": [],
   "source": [
    "df.plot(x=\"Name\", y=[\"Age\",\"Age inv\"])"
   ]
  },
  {
   "cell_type": "markdown",
   "id": "1a336639",
   "metadata": {},
   "source": [
    "**a)**\n",
    "Download the World Bank's education data in CSV format at the following address: <https://data.worldbank.org/topic/education>."
   ]
  },
  {
   "cell_type": "markdown",
   "id": "c1c09846",
   "metadata": {},
   "source": [
    "**b)**\n",
    "By inspecting the previous files, extract the data required to create a two-column table, the first containing country codes, the second country names.\n",
    "\n",
    "**Hint.**\n",
    "Use the `read_csv` function to read a CSV file with Pandas."
   ]
  },
  {
   "cell_type": "markdown",
   "id": "ca6befd1",
   "metadata": {},
   "source": [
    "**c)**\n",
    "Looking at the documentation of the `rename` and `set_index` functions, rename the column labels to `code` and `country`, then set the country code as the row index.\n",
    "The aim is that the name of the country can then be determined from its code with the function `loc[\"FRA\"]`."
   ]
  },
  {
   "cell_type": "markdown",
   "id": "ae419e27",
   "metadata": {},
   "source": [
    "**d)**\n",
    "Determine the code for Zimbabwe from the table above."
   ]
  },
  {
   "cell_type": "markdown",
   "id": "0d732600",
   "metadata": {},
   "source": [
    "**e)**\n",
    "Determine the code associated with the proportion of unemployed and the proportion of people with at least a master's degree from the data downloaded above.\n",
    "\n",
    "**Hint.**\n",
    "Search for the \"Unemployment\" and \"Master\" strings in the file `Metadata_Indicator...`."
   ]
  },
  {
   "cell_type": "markdown",
   "id": "df4f68a6",
   "metadata": {},
   "source": [
    "**f)**\n",
    "Plot the evolution of the unemployment rate in France.\n",
    "\n",
    "**Hint.**\n",
    "The file `API...` contains a header and really only starts at line 5; use the `skiprows=4` option to ignore the header."
   ]
  },
  {
   "cell_type": "markdown",
   "id": "10c11769",
   "metadata": {},
   "source": [
    "**g)**\n",
    "Write a function `time_plot(code, countries)` to plot the time evolution of the `code` indicator for the countries in the `countries` list. Test it on the unemployment rate and the proportion of people with at least a master's degree for different countries."
   ]
  },
  {
   "cell_type": "markdown",
   "id": "3b70fe9f",
   "metadata": {},
   "source": [
    "# Exercise 12.2: Benford's law"
   ]
  },
  {
   "cell_type": "markdown",
   "id": "d9a0a195",
   "metadata": {},
   "source": [
    "Benford's law predicts that statistically in a list of given numbers, the probability that one of these numbers begins with the digit 1 is greater than the probability that it begins with the digit 9. More precisely, Benford's law predicts that the probability that a number begins with the digit $d$ is:"
   ]
  },
  {
   "cell_type": "markdown",
   "id": "0afb8f2e",
   "metadata": {},
   "source": [
    "$$\n",
    "p_d = \\log_{10}\\bigg(1+\\frac{1}{d}\\bigg) \\,,\n",
    "$$"
   ]
  },
  {
   "cell_type": "markdown",
   "id": "fb566980",
   "metadata": {},
   "source": [
    "where $\\log_{10}$ is the logarithm in base 10.\n",
    "It is possible to verify that Benford's law is the only one that remains invariant by change of units, *i.e.*, by multiplying the numbers of the list by a constant, the previous probabilities remain unchanged.\n",
    "\n",
    "**a)**\n",
    "Write a function `firstdigit(n)` which for a given number `n` returns its first digit and a function `occurrences(lst)` which returns the number of occurrences of the first digits in `lst`.\n",
    "\n",
    "**Hint.**\n",
    "Make the `occurrences` function work even if the list contains zeros by ignoring them."
   ]
  },
  {
   "cell_type": "markdown",
   "id": "927f391b",
   "metadata": {},
   "source": [
    "**b)**\n",
    "Check if Benford's law seems to be satisfied for the sequence of numbers $(2^n)_ {n\\in\\mathbb{N}}$ by comparing the empirical histogram with Benford's law."
   ]
  },
  {
   "cell_type": "markdown",
   "id": "41fd5182",
   "metadata": {},
   "source": [
    "**c)**\n",
    "Check if Benford's law seems to be satisfied for the sequence of numbers $(3n+1)_ {n\\in\\mathbb{N}}$."
   ]
  },
  {
   "cell_type": "markdown",
   "id": "735792db",
   "metadata": {},
   "source": [
    "**d)**\n",
    "By going to the INSEE website at the address: <https://www.insee.fr/fr/statistiques/7631680>, download the file in CSV format containing the French population data by sex and age grouped (POP1A). Import this data to have the population by postal code, sex, and age group.\n",
    "\n",
    "**Hint.**\n",
    "Documentation on how to read files is available [here](https://docs.python.org/3/tutorial/inputoutput.html#reading-and-writing-files)."
   ]
  },
  {
   "cell_type": "markdown",
   "id": "fbc53231",
   "metadata": {},
   "source": [
    "**e)**\n",
    "Determine if the list of all populations by postal code, sex, and age follows Benford's law."
   ]
  },
  {
   "cell_type": "markdown",
   "id": "feccefeb",
   "metadata": {},
   "source": [
    "**f)**\n",
    "Sum the previous data to obtain the list of populations by postal code and determine if it follows Benford's law."
   ]
  },
  {
   "cell_type": "markdown",
   "id": "ce9c37dc",
   "metadata": {},
   "source": [
    "**g)**\n",
    "Repeat the previous two questions, but using the POP1B population file with ungrouped ages and using Pandas."
   ]
  },
  {
   "cell_type": "markdown",
   "id": "94b44cc6",
   "metadata": {},
   "source": [
    "**h)**\n",
    "<font color=\"red\">!!</font> By going to the INSEE website or elsewhere download your favorite data set and test if it follows Benford's law.\n",
    "\n",
    "**Hint.**\n",
    "Use, for example, the detailed French government accounts available [here](https://www.data.gouv.fr/fr/datasets/donnees-de-comptabilite-generale-de-letat/)."
   ]
  },
  {
   "cell_type": "markdown",
   "id": "b871a214",
   "metadata": {},
   "source": [
    "# Exercise 12.3: Least squares method"
   ]
  },
  {
   "cell_type": "markdown",
   "id": "e2759ed1",
   "metadata": {},
   "source": [
    "**a)**\n",
    "Reuse the INSEE data on the French population by sex and age [POP1B](https://www.insee.fr/fr/statistiques/7631680).\n",
    "Write a function `pop(code)` that returns, as a list or NumPy vector, the population by age, without distinction between men and women, in the municipality with postal code `code`. Use this function to determine the total number of people living in postal code 75102."
   ]
  },
  {
   "cell_type": "markdown",
   "id": "7ed4387f",
   "metadata": {},
   "source": [
    "**b)**\n",
    "Write a function `plot_pop(code)` to plot the population fractions\n",
    "(normalized by the total population of the municipality) as a function of age, without distinction between men and women, in the municipality with postal code `code`.\n",
    "Test for municipalities with postal codes 13201 and 75102."
   ]
  },
  {
   "cell_type": "markdown",
   "id": "b9b84460",
   "metadata": {},
   "source": [
    "For a given municipality, if we denote by $p(a)$ the fraction of the population of age $a$,\n",
    "we look for the coefficients $r_0$, $r_1$, $r_2$ such that the law:"
   ]
  },
  {
   "cell_type": "markdown",
   "id": "dc4306d1",
   "metadata": {},
   "source": [
    "$$\n",
    "p(a) = r_0+r_1a+r_2a^2 \\,,\n",
    "$$"
   ]
  },
  {
   "cell_type": "markdown",
   "id": "33a5f817",
   "metadata": {},
   "source": [
    "is best satisfied for ages $a\\geq25$.\n",
    "To do this, we solve the least squares problem:"
   ]
  },
  {
   "cell_type": "markdown",
   "id": "5337135a",
   "metadata": {},
   "source": [
    "$$\n",
    "\\min_{\\boldsymbol{r}\\in \\mathbb{R}^3}\\|X\\boldsymbol{r}-\\boldsymbol{p}\\|^2 \\,,\n",
    "$$"
   ]
  },
  {
   "cell_type": "markdown",
   "id": "c41c81ad",
   "metadata": {},
   "source": [
    "where by noting the vector of ages $\\boldsymbol{a}=(25,26,\\dots,100)$,\n",
    "$X$ is the matrix of size $76\\times 3$ such that $X_{i,1}=1$, $X_{i,2}=a_i$, $X_{i,3}=a_i^2$, and\n",
    "$\\boldsymbol{p}$ is the vector of populations by age $p_i = p(a_i)$.\n",
    "The solution to this problem is $\\boldsymbol{r} = (r_0,r_1,r_2)\\in \\mathbb{R}^3$. This solution satisfies the equation:"
   ]
  },
  {
   "cell_type": "markdown",
   "id": "aa602855",
   "metadata": {},
   "source": [
    "$$\n",
    "X^{\\mathsf{T}}X\\boldsymbol{r}=X^{\\mathsf{T}}\\boldsymbol{p} \\,,\n",
    "$$"
   ]
  },
  {
   "cell_type": "markdown",
   "id": "1a2ffaf0",
   "metadata": {},
   "source": [
    "where $X^{\\mathsf{T}}$ is the transpose of $X$.\n",
    "\n",
    "**c)**\n",
    "For the municipality with postalcode 13201, form the matrix $X$ and the vector $\\boldsymbol{p}$, then determine the solution $\\boldsymbol{r}$."
   ]
  },
  {
   "cell_type": "markdown",
   "id": "d5c1a45a",
   "metadata": {},
   "source": [
    "**d)**\n",
    "For municipalities with postal codes 13201 and 75102, plot the theoretical curve $r_0+r_1a+r_2a^2$ as a function of age over the data."
   ]
  },
  {
   "cell_type": "markdown",
   "id": "4a310d24",
   "metadata": {},
   "source": [
    "# Exercise 12.4: Handwritten number recognition"
   ]
  },
  {
   "cell_type": "markdown",
   "id": "5c7f601e",
   "metadata": {},
   "source": [
    "The aim of this exercise is to classify images of handwritten numbers, *i.e.*, to recognize handwritten numbers.\n",
    "This is a simple example of machine learning and one of the first industrial applications for automatic reading of cheques or postal codes.\n",
    "\n",
    "The scanned handwritten digits dataset comes from the [UCI ML repository](https://archive.ics.uci.edu/ml/datasets/Optical+Recognition+of+Handwritten+Digits).\n",
    "There are two ways to import this dataset. If the scikit-learn package (import name `sklearn`) is installed, simply run:"
   ]
  },
  {
   "cell_type": "code",
   "execution_count": 53,
   "id": "13ea165d",
   "metadata": {
    "collapsed": false
   },
   "outputs": [],
   "source": [
    "from sklearn.datasets import load_digits\n",
    "digits = load_digits()\n",
    "X, y = digits.data, digits.target"
   ]
  },
  {
   "cell_type": "markdown",
   "id": "d62b7133",
   "metadata": {},
   "source": [
    "If the `sklearn` module is unavailable, the following commands can be used instead to load data:"
   ]
  },
  {
   "cell_type": "code",
   "execution_count": 54,
   "id": "b305c682",
   "metadata": {
    "collapsed": false
   },
   "outputs": [],
   "source": [
    "import urllib.request, gzip, io\n",
    "# download link\n",
    "url = \"https://raw.githubusercontent.com/scikit-learn/scikit-learn/main/sklearn/datasets/data/digits.csv.gz\"\n",
    "# download gz file\n",
    "file = urllib.request.urlopen(url)\n",
    "# extracts the gz file\n",
    "file = gzip.GzipFile(fileobj=io.BytesIO(file.read()))\n",
    "# import txt file\n",
    "digits = np.loadtxt(file, delimiter =',')\n",
    "# extract images and labels\n",
    "X, y = digits[:,:-1], digits[:,-1]"
   ]
  },
  {
   "cell_type": "markdown",
   "id": "323cf121",
   "metadata": {},
   "source": [
    "In both cases, `X` is a NumPy array containing numerous examples of handwritten digitized digits in an $8\\times8$ pixel image stored as an array of 64 integers stored as floats.\n",
    "The `y` variable contains the integer between 0 and 9 corresponding to the digitized digit. This is referred to as *label*.\n",
    "\n",
    "**a)**\n",
    "Determine the dimensions of `X` and `y` and deduce the number of examples contained in the database."
   ]
  },
  {
   "cell_type": "markdown",
   "id": "2584b10f",
   "metadata": {},
   "source": [
    "**b)**\n",
    "Display the data contained in `X` associated with the index `idx=12`.\n",
    "This is the 12th line of the `X` table, starting the numbering at zero."
   ]
  },
  {
   "cell_type": "markdown",
   "id": "fd100a63",
   "metadata": {},
   "source": [
    "**c)**\n",
    "Using NumPy function `reshape` and Matplotlib function `imshow`, display the image with index `idx=12`.\n",
    "You can use the `cmap='gray'` argument in the `imshow` call to display the result in grayscale.\n",
    "Which digit is encoded in this way?"
   ]
  },
  {
   "cell_type": "markdown",
   "id": "7bf2396b",
   "metadata": {},
   "source": [
    "For each digit class (from 0 to 9), the idea is to calculate its centroid, *i.e.*, the \"average\" representation of a class.\n",
    "\n",
    "**d)**\n",
    "Define the `X` and `y` sub-tables corresponding to all digitized 0 digits."
   ]
  },
  {
   "cell_type": "markdown",
   "id": "b5bafa1e",
   "metadata": {},
   "source": [
    "**e)**\n",
    "For all the zeros from the previous question, calculate the mean value for each pixel, to define the \"average zero\"."
   ]
  },
  {
   "cell_type": "markdown",
   "id": "10a93d8e",
   "metadata": {},
   "source": [
    "**f)**\n",
    "For all the digits from 0 to 9, plot the associated average image on the same line\n",
    ":\n",
    "\n",
    "<center><img src=\"data:image/png;base64,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\" style=\"width:90%;max-width:800px;\"></center>\n",
    "\n",
    "**Hint.**\n",
    "Use Matplotlib's `subplot` function."
   ]
  },
  {
   "cell_type": "markdown",
   "id": "1ec04418",
   "metadata": {},
   "source": [
    "Finally, we will implement our own classifier: for a new digitized digit image, we will predict the class whose average digit is closest.\n",
    "To do this, we divide our dataset into two parts of similar size:\n",
    "the first part will serve as training data (`X_train` and `y_train`) and the second part will serve as test data (`X_test` and `y_test`).\n",
    "\n",
    "**g)**\n",
    "Define variables: `X_train`, `y_train`, `X_test` and `y_test`."
   ]
  },
  {
   "cell_type": "markdown",
   "id": "7bcb26f7",
   "metadata": {},
   "source": [
    "**h)**\n",
    "For each digit in the training set, calculate the centroids (*i.e.*, the average digits) of the classes from 0 to 9.\n",
    "Note the variable containing the set of averages `centroids_train`."
   ]
  },
  {
   "cell_type": "markdown",
   "id": "701076be",
   "metadata": {},
   "source": [
    "**i)**\n",
    "Write a function which, given a number in the test set (`X_test`), returns the centroid of the nearest `centroids_train` in the Euclidean norm."
   ]
  },
  {
   "cell_type": "markdown",
   "id": "3e0779a2",
   "metadata": {},
   "source": [
    "**j)**\n",
    "Finally, evaluate whether the digit thus obtained corresponds to the true digit using `y_test` and deduce an estimate of the percentage of correct predictions on the test set."
   ]
  },
  {
   "cell_type": "markdown",
   "id": "f0807d5b",
   "metadata": {},
   "source": [
    "# Exercise 12.5: <font color=\"red\">!</font> Automatic differentiation"
   ]
  },
  {
   "cell_type": "markdown",
   "id": "95c2b37f",
   "metadata": {},
   "source": [
    "The aim of this exercise is to introduce one of the fundamental building blocks of machine learning: automatic differentiation.\n",
    "This is a technique for calculating derivatives or gradients of Python functions in a way that is virtually transparent to the user.\n",
    "Given a certain Python function `f(x)`, the aim of automatic differentiation is to make it virtually as easy for the user to evaluate the derivative of `f` at a point `x=1` as it is to do `f(1)`, even if the function $f$ is complicated.\n",
    "This is the fundamental building block enabling machine learning to learn parameters by optimizing complicated nonlinear functions.\n",
    "\n",
    "The idea behind automatic differentiation is to use the derivation rule for compound functions and knowledge of the derivatives of basic functions. In fact, a Python function is \"just\" a composition of basic functions (or instructions).\n",
    "\n",
    "For sake of simplicity, we are only interested here in the composition of functions on $\\mathbb{R}$. For any $i\\in\\{0,1,\\dots,n\\}$, let $f_i:\\mathbb{R}$ be an elementary function whose derivative is known. Consider the composition of the first $i\\leq n$ functions:"
   ]
  },
  {
   "cell_type": "markdown",
   "id": "59dfa209",
   "metadata": {},
   "source": [
    "$$\n",
    "F_i = f_i \\circ f_{i-1} \\circ \\cdots \\circ f_1 \\circ f_0 \\,.\n",
    "$$"
   ]
  },
  {
   "cell_type": "markdown",
   "id": "e05c7fc2",
   "metadata": {},
   "source": [
    "The derivative is given by the composition rule (or chain rule):"
   ]
  },
  {
   "cell_type": "markdown",
   "id": "dc6921e6",
   "metadata": {},
   "source": [
    "$$\n",
    "F_i^\\prime = (f_i \\circ F_{i-1})^\\prime = (f_i^\\prime \\circ F_{i-1}) \\cdot F_{i-1}^\\prime \\,.\n",
    "$$"
   ]
  },
  {
   "cell_type": "markdown",
   "id": "ec510198",
   "metadata": {},
   "source": [
    "This gives a recursive way of calculating $F_n^\\prime$ with the anchor $F_0^\\prime = f_0^\\prime$.\n",
    "To calculate the value of $F_n(x)$ for a given $x$, Pyhon will intrinsically calculate successively $F_0(x)$, then $F_1(x)$, $F_2(x)$, up to $F_n(x)$.\n",
    "Automatic differentiation consists of evaluating $F_0^\\prime(x)$, $F_1^\\prime(x)$ up to $F_n^\\prime(x)$ at the same time or later.\n",
    "\n",
    "Note that automatic differentiation is neither a numerical approximation nor symbolic calculation. In fact, the value of the derivative is determined exactly (to machine precision), which is not the case with numerical approximation:"
   ]
  },
  {
   "cell_type": "markdown",
   "id": "4396095f",
   "metadata": {},
   "source": [
    "$$\n",
    "f^\\prime(x) \\approx \\frac{f(x+h)-f(x)}{h} \\,,\n",
    "$$"
   ]
  },
  {
   "cell_type": "markdown",
   "id": "ddbeb399",
   "metadata": {},
   "source": [
    "with some $h>0$ small.\n",
    "It is not symbolic calculation either, as there are no symbols in automatic differentiation, only real numbers. Automatic differentiation calculates the value of the derivative at a given point, whereas symbolic differentiation does this for any symbol.\n",
    "\n",
    "**a)**\n",
    "The first step is to define the derivatives of the elementary functions. To do this, build the tuples $\\tilde{f} = (f,f^\\prime)$ manually for the elementary functions $\\sin$, $\\cos$, $\\operatorname{op}:x\\mapsto -x$, $\\operatorname{inv}:x\\mapsto x^{-1}$ et $\\operatorname{square}:x\\mapsto x^2$."
   ]
  },
  {
   "cell_type": "markdown",
   "id": "2c9c5200",
   "metadata": {},
   "source": [
    "**b)**\n",
    "A composition of functions $F_n = f_n \\circ f_{n-1} \\circ \\cdots \\circ f_1 \\circ f_0$, will be stored in Python as the list of tuples $[\\tilde{f}_0, \\tilde{f}_1, \\dots, \\tilde{f}_n]$.\n",
    "In Python, define the composition corresponding to the function:"
   ]
  },
  {
   "cell_type": "markdown",
   "id": "bb67977e",
   "metadata": {},
   "source": [
    "$$\n",
    "F(x) = \\cos\\left(\\frac{1}{\\sin(-\\cos x^{2})^{2}}\\right).\n",
    "$$"
   ]
  },
  {
   "cell_type": "markdown",
   "id": "cfa76032",
   "metadata": {},
   "source": [
    "**c)**\n",
    "Write a function `eval(list, x)` which, given a list of tuples defining a composition of functions $F_n$, returns $F_n(x)$. Test on the previous example."
   ]
  },
  {
   "cell_type": "markdown",
   "id": "6f25f97a",
   "metadata": {},
   "source": [
    "**d)**\n",
    "Write a function `autodiff(list, x)` which, given a tuple list defining a composition of functions $F_n$, returns $F_n(x)$ and $F_n^\\prime(x)$. Test again on the same example."
   ]
  },
  {
   "cell_type": "markdown",
   "id": "5a03a85a",
   "metadata": {},
   "source": [
    "The previous approach only allows the composition of functions of one variable, which is very limiting, as sum and multiplication are functions of two variables. The idea is to be able to consider more complicated functions as well, for example:"
   ]
  },
  {
   "cell_type": "markdown",
   "id": "320d2670",
   "metadata": {},
   "source": [
    "$$\n",
    "G(x) = \\frac{\\cos(x)}{\\sin(x) + \\cos(x)\\sin(x^2) } \\,.\n",
    "$$"
   ]
  },
  {
   "cell_type": "markdown",
   "id": "861a086f",
   "metadata": {},
   "source": [
    "**e)**\n",
    "As before, implement the sum function $\\operatorname{add}:x,y \\mapsto x+y$ and the multiplication function $\\operatorname{mult}:x,y \\mapsto xy$ in tuple form."
   ]
  },
  {
   "cell_type": "markdown",
   "id": "f63632f3",
   "metadata": {},
   "source": [
    "**f)**\n",
    "The previous function $G$ can no longer be represented in Python as a list of compositions, as it has the structure of a graph:\n",
    "\n",
    "<center><img src=\"data:image/png;base64,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\" style=\"width:90%;max-width:400px;\"></center>\n",
    "\n",
    "We choose to store it in Python as a list of lists, with the first element of each list being the function to be applied, and the arguments being the following children. For the example $G$ above:"
   ]
  },
  {
   "cell_type": "code",
   "execution_count": 76,
   "id": "ceab44ae",
   "metadata": {
    "collapsed": false
   },
   "outputs": [],
   "source": [
    "myG = [mult, [cos], [inv, [add, [sin], [mult, [cos], [sin, [square]]]]]]"
   ]
  },
  {
   "cell_type": "markdown",
   "id": "cb872861",
   "metadata": {},
   "source": [
    "Write the previous simple composition $F$ in this new form, as well as the function:"
   ]
  },
  {
   "cell_type": "markdown",
   "id": "d2283971",
   "metadata": {},
   "source": [
    "$$\n",
    "H(x) = \\frac{\\cos(x^{2})+\\sin x}{\\cos x+2\\sin(x^{-1})} \\,.\n",
    "$$"
   ]
  },
  {
   "cell_type": "markdown",
   "id": "17f32051",
   "metadata": {},
   "source": [
    "**g)**\n",
    "Write a function `eval(list,x)` which evaluate an expression in the form of a list of lists described above at `x`. Test on functions $F$, $G$, and $H$."
   ]
  },
  {
   "cell_type": "markdown",
   "id": "093c5872",
   "metadata": {},
   "source": [
    "**h)**\n",
    "<font color=\"red\">!!</font> Write a function `autodiff(list,x)` which, in addition to returning the evaluation of the function at `x`, also returns the evaluation of its derivative at `x`."
   ]
  },
  {
   "cell_type": "markdown",
   "id": "843cd72c",
   "metadata": {},
   "source": [
    "**i)**\n",
    "<font color=\"red\">!!</font> The previous implementation is not very usable concretely. In practice, automatic differentiation is coded by overloading basic operations in order to be relatively transparent to the user.\n",
    "Using the package [JAX](https://jax.readthedocs.io/) or [PyTorch](https://pytorch.org/), determine the derivative of the following function by automatic differentiation at `x=0.4`:"
   ]
  },
  {
   "cell_type": "code",
   "execution_count": 88,
   "id": "106cfbfd",
   "metadata": {
    "collapsed": false
   },
   "outputs": [],
   "source": [
    "def f(x):\n",
    "    for i in range(50):\n",
    "        if x>0.5:\n",
    "            x = 3.7*x*(1-x)\n",
    "        else:\n",
    "            x = 3*x*(1-x)\n",
    "    return x"
   ]
  },
  {
   "cell_type": "markdown",
   "id": "d678fc9a",
   "metadata": {},
   "source": [
    "Finally, compare with numerical differentiation.\n",
    "\n",
    "**Hint.**\n",
    "The documentation on automatic differentiation with JAX is [here](https://jax.readthedocs.io/en/latest/automatic-differentiation.html) and with PyTorch [here](https://pytorch.org/tutorials/beginner/blitz/autograd_tutorial.html)."
   ]
  },
  {
   "cell_type": "markdown",
   "id": "88d0b670",
   "metadata": {},
   "source": [
    "# Exercise 12.6: <font color=\"red\">!</font> Neural network"
   ]
  },
  {
   "cell_type": "markdown",
   "id": "e5bf6b29",
   "metadata": {},
   "source": [
    "The aim of this exercise is to introduce the concept of neural network for finding a real function for which only its noisy evaluation is known.\n",
    "More precisely, consider the function $f:[0,1]\\to\\mathbb{R}$ defined by:"
   ]
  },
  {
   "cell_type": "markdown",
   "id": "028ef283",
   "metadata": {},
   "source": [
    "$$\n",
    "f(x) = 1 + \\sin(4\\cos x)^2 \\,,\n",
    "$$"
   ]
  },
  {
   "cell_type": "markdown",
   "id": "13ac0458",
   "metadata": {},
   "source": [
    "and consider the data generated by 500 noisy evaluations of $f$:"
   ]
  },
  {
   "cell_type": "code",
   "execution_count": 94,
   "id": "b75b45b1",
   "metadata": {
    "collapsed": false
   },
   "outputs": [],
   "source": [
    "rng = np.random.default_rng(123456)\n",
    "f = lambda x: 0.1 + np.sin(4*np.cos(x))**2\n",
    "x = rng.random(500)\n",
    "y = f(x) + rng.normal(0,0.1,500)"
   ]
  },
  {
   "cell_type": "markdown",
   "id": "4a16c16a",
   "metadata": {},
   "source": [
    "The aim is to forget that the data were generated in this way and to find a function approximating $f$ from `x` and `y` alone.\n",
    "To achieve this, a single-layer neural network will be used, and we speak of learning the function from the data.\n",
    "The principle is to construct the learned function in the form:"
   ]
  },
  {
   "cell_type": "markdown",
   "id": "39ef6f7b",
   "metadata": {},
   "source": [
    "$$\n",
    "f_{\\boldsymbol{\\omega}}(x) = \\frac{1}{n}\\sum_{i=0}^{n-1} w_i \\sigma(a_i x+b_i) \\,,\n",
    "$$"
   ]
  },
  {
   "cell_type": "markdown",
   "id": "d9d7cfc1",
   "metadata": {},
   "source": [
    "where $\\boldsymbol{\\omega} = (\\boldsymbol{a},\\boldsymbol{b},\\boldsymbol{w}) \\in \\mathbb{R}^n \\times \\mathbb{R}^n \\times \\mathbb{R}^n$ are parameters to be determined and $\\sigma$ the sigmoid function:"
   ]
  },
  {
   "cell_type": "markdown",
   "id": "e17e4354",
   "metadata": {},
   "source": [
    "$$\n",
    "\\sigma(x) = \\frac{1}{1+e^{-x}} \\,.\n",
    "$$"
   ]
  },
  {
   "cell_type": "markdown",
   "id": "e08c7284",
   "metadata": {},
   "source": [
    "This is a single-layer neural network with $n$ neurons. The principle is to sum $n$ nonlinear functions (the sigmoids) with input weights $\\boldsymbol{a}=(a_i)_{i=0}^{n-1}$, biases $\\boldsymbol{b}=(b_i)_{i=0}^{n-1}$, and output weights $\\boldsymbol{w}=(w_i)_{i=0}^{n-1}$.\n",
    "Parameters are chosen to minimize the following cost function:"
   ]
  },
  {
   "cell_type": "markdown",
   "id": "d07e8b8f",
   "metadata": {},
   "source": [
    "$$\n",
    "J(\\boldsymbol{\\omega}) = \\sum_{k=0}^{499} \\bigl(f_{\\boldsymbol{\\omega}}(x_k) - y_k\\bigr)^2 \\,.\n",
    "$$"
   ]
  },
  {
   "cell_type": "markdown",
   "id": "bf79ae4c",
   "metadata": {},
   "source": [
    "The strategy for minimizing $J$ on the parameters $\\boldsymbol{\\omega}$ is to perform a gradient descent starting with random values $\\boldsymbol{\\omega}_0$ of the parameters and then successively defining:"
   ]
  },
  {
   "cell_type": "markdown",
   "id": "9ef4b494",
   "metadata": {},
   "source": [
    "$$\n",
    "\\boldsymbol{\\omega}_{i+1} = \\boldsymbol{\\omega}_{i} - \\eta J^\\prime(\\boldsymbol{\\omega}_i) \\,,\n",
    "$$"
   ]
  },
  {
   "cell_type": "markdown",
   "id": "c6645c65",
   "metadata": {},
   "source": [
    "where $J^\\prime(\\boldsymbol{\\omega})$ is the gradient of $J(\\boldsymbol{\\omega})$ with respect to the parameters and $\\eta\\in(0,1]$ is a parameter called the learning rate.\n",
    "The idea of the gradient descent algorithm is to move the parameters in the direction of greatest gradient in order to minimize $J(\\boldsymbol{\\omega})$. This is known as parameters learning.\n",
    "\n",
    "**a)**\n",
    "Plot the data `x` and `y` and the function $f$."
   ]
  },
  {
   "cell_type": "markdown",
   "id": "d299ed91",
   "metadata": {},
   "source": [
    "**b)**\n",
    "Determine the value of the cost function $J$ for the function $f$:"
   ]
  },
  {
   "cell_type": "markdown",
   "id": "dc42616b",
   "metadata": {},
   "source": [
    "$$\n",
    "J_f = \\sum_{k=0}^{499} \\bigl(f(x_k) - y_k\\bigr)^2 \\,.\n",
    "$$"
   ]
  },
  {
   "cell_type": "markdown",
   "id": "3473f636",
   "metadata": {},
   "source": [
    "**c)**\n",
    "Define the sigmoid function $\\sigma$ in Python and its derivative $\\sigma^\\prime$, and represent the sigmoid graphically."
   ]
  },
  {
   "cell_type": "markdown",
   "id": "9e3f7be0",
   "metadata": {},
   "source": [
    "**d)**\n",
    "Implement in Python a function `F(x,omega)` corresponding to the function $f_{\\boldsymbol{\\omega}}(x)$. Make the function `F(x,omega)` vectorized, *i.e.*, if $x=(x_0,x_1,\\dots, x_{k-1})\\in\\mathbb{R}^k$, then the function should return $(f_{\\boldsymbol{\\omega}}(x_0), f_{\\boldsymbol{\\omega}}(x_1), \\dots, f_{\\boldsymbol{\\omega}}(x_{k-1}))$."
   ]
  },
  {
   "cell_type": "markdown",
   "id": "c3152090",
   "metadata": {},
   "source": [
    "**e)**\n",
    "Calculate by hand the gradient of $f_{\\boldsymbol{\\omega}}(x)$ with respect to $\\boldsymbol{\\omega}$ (and not with respect to $x$) and implement this gradient in Python, taking care that it is also vectorized."
   ]
  },
  {
   "cell_type": "markdown",
   "id": "0c9c8589",
   "metadata": {},
   "source": [
    "**f)**\n",
    "Implement in Python $J(\\boldsymbol{\\omega})$ and its gradient $J^\\prime(\\boldsymbol{\\omega})$."
   ]
  },
  {
   "cell_type": "markdown",
   "id": "a31895f0",
   "metadata": {},
   "source": [
    "**g)**\n",
    "With learning rate $\\eta=0.01$ and four neurons, learn the parameters $\\boldsymbol{\\omega}\\in\\mathbb{R}^{12}$ that tend to minimize $J$.\n",
    "Compare the value of the cost function $J(\\boldsymbol{\\omega})$ of the learned function $f_{\\boldsymbol{\\omega}}$ with the value of the cost function $J_f$ of the function $f$.\n",
    "Plot the function $f_{\\boldsymbol{\\omega}}$ as a function of $x$ for these parameters and compare with the function $f$."
   ]
  }
 ],
 "metadata": {
  "kernelspec": {
   "display_name": "Python 3",
   "language": "python",
   "name": "python3"
  },
  "language_info": {
   "codemirror_mode": {
    "name": "ipython",
    "version": 3
   },
   "file_extension": ".py",
   "mimetype": "text/x-python",
   "name": "python",
   "nbconvert_exporter": "python",
   "pygments_lexer": "ipython3",
   "version": "3.8.5"
  }
 },
 "nbformat": 4,
 "nbformat_minor": 5
}