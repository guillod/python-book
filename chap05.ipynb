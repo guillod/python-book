{
 "cells": [
  {
   "cell_type": "markdown",
   "id": "c2270386",
   "metadata": {},
   "source": [
    "<div style=\"width:100%\"><a href=\"https://www.routledge.com/Python-Programming-for-Mathematics/Guillod/p/book/9781032910116\"><img src=\"https://python.guillod.org/book/banner1.png\"/></a></div>\n",
    "\n",
    "This file reflects the statements of the exercises of a chapter of the book *[Python Programming for Mathematics](https://www.routledge.com/Python-Programming-for-Mathematics/Guillod/p/book/9781032910116)*.\n",
    "All statements can be downloaded in [Jupyter Notebook](https://python.guillod.org/book/) format or executed directly online on [GESIS](https://notebooks.gesis.org/binder/v2/gh/guillod/python-book/HEAD).\n",
    "The answers are available in the book (ISBN [9781032910116](https://www.routledge.com/Python-Programming-for-Mathematics/Guillod/p/book/9781032910116)) and ebook (ISBN [9781003565451](https://www.routledge.com/Python-Programming-for-Mathematics/Guillod/p/book/9781003565451)) published by Chapman & Hall/CRC Press in the Python Series.\n",
    "This file reflects the exercises as published in this book and differs somewhat from the exercises presented on the page [python.guillod.org](https://python.guillod.org/)."
   ]
  },
  {
   "cell_type": "markdown",
   "id": "0c51f38f",
   "metadata": {},
   "source": [
    "# 5 Integration"
   ]
  },
  {
   "cell_type": "markdown",
   "id": "87684c10",
   "metadata": {},
   "source": [
    "<div id=\"ch:integration\"></div>\n",
    "\n",
    "The goal is to obtain an approximation of a definite integral of the type:"
   ]
  },
  {
   "cell_type": "markdown",
   "id": "86fa116a",
   "metadata": {},
   "source": [
    "$$\n",
    "J = \\int_a^b f(x) \\, \\mathrm{d} x\n",
    "$$"
   ]
  },
  {
   "cell_type": "markdown",
   "id": "e76c4789",
   "metadata": {},
   "source": [
    "for some function $f:[a,b] \\to \\mathbb{R}$ too complicated to *a priori* determine the value of $J$ by hand.\n",
    "Deterministic and probabilistic approximation methods will be introduced to obtain an approximation $\\tilde{J}$ of $J$.\n",
    "\n",
    "**Concepts abordés:**\n",
    "\n",
    "* classical methods (rectangles, trapezoids, and Simpson)\n",
    "\n",
    "* Monte Carlo method\n",
    "\n",
    "* convergence speed\n",
    "\n",
    "* statistics"
   ]
  },
  {
   "cell_type": "markdown",
   "id": "32beb75f",
   "metadata": {},
   "source": [
    "# Exercise 5.1: Rectangle rule"
   ]
  },
  {
   "cell_type": "markdown",
   "id": "9bc77026",
   "metadata": {},
   "source": [
    "<div id=\"exer:integration-rectangles\"></div>\n",
    "\n",
    "The rectangle rule is based on the definition of the integral in the Riemann sense. The first step is to split the interval $[a,b]$ into $N$ intervals $[x_n,x_{n+1}]$ of the same size $\\delta=\\frac{b-a}{N}$, *i.e.*, $x_n = a+n\\delta$ for $n\\in\\{0,1,\\dots,N-1\\}$. The second step consists in assuming that the function $f$ is constant on each interval $[x_n,x_{n+1}]$, thus to make the approximation:"
   ]
  },
  {
   "cell_type": "markdown",
   "id": "3739ce54",
   "metadata": {},
   "source": [
    "$$\n",
    "J_n = \\int_{x_n}^{x_{n+1}} f(x) \\, \\mathrm{d} x \\approx \\delta f(\\tilde{x}_n) \\,,\n",
    "$$"
   ]
  },
  {
   "cell_type": "markdown",
   "id": "56aabca1",
   "metadata": {},
   "source": [
    "for $\\tilde{x}_n$ a certain value to choose in the interval $[x_n,x_{n+1}]$. The choice of $\\tilde{x}_n$ can, for example, be done by $\\tilde{x}_n = x_n + \\alpha\\delta$ with $\\alpha\\in[0,1]$.\n",
    "Finally, the approximation of $J$ is given by the sum of the approximations of $J_n$,"
   ]
  },
  {
   "cell_type": "markdown",
   "id": "de9a0c7c",
   "metadata": {},
   "source": [
    "$$\n",
    "\\tilde{J} = \\sum_{n=0}^{N-1} \\delta f(\\tilde{x}_n)\\,.\n",
    "$$"
   ]
  },
  {
   "cell_type": "markdown",
   "id": "931a2e21",
   "metadata": {},
   "source": [
    "Assuming that $f\\in C^1([a,b])$, it is then possible to show that the rectangle rule converges and that its speed of convergence is of order one. A numerical method is of order $k$ if the error between the numerical approximation and the exact result is of order $N^{-k}$.\n",
    "\n",
    "**a)**\n",
    "Choose a continuous function $f:[a,b]\\to\\mathbb{R}$ and define the corresponding Python function `f(x)`. To test the code, it is wise to choose a function $f$ whose integral can be easily computed by hand.\n",
    "\n",
    "**Hint.**\n",
    "The list of basic mathematical functions available in Python in the `math` module is available [here](https://docs.python.org/3/library/math.html). Note that NumPy also defines mathematical functions, see the documentation [here](https://numpy.org/doc/stable/reference/routines.math.html)."
   ]
  },
  {
   "cell_type": "markdown",
   "id": "0a830135",
   "metadata": {},
   "source": [
    "**b)**\n",
    "Write a function `rectangles(f,a,b,N)` that returns the approximation of the integral $J$ by the rectangle rule, for example, by choosing $\\tilde{x}_n=x_n$, *i.e.*, the left edge of the interval $[x_n,x_{n+1}]$.\n",
    "\n",
    "**Hint.**\n",
    "It is not necessary to store all the values of the approximations of $J_n$, but it is possible to increment a variable for each approximation of $J_n$."
   ]
  },
  {
   "cell_type": "markdown",
   "id": "0e2662f1",
   "metadata": {},
   "source": [
    "**c)**\n",
    "Modify the previous function so that it takes an optional parameter `alpha` determining the choice of parameter $\\alpha\\in[0,1]$."
   ]
  },
  {
   "cell_type": "markdown",
   "id": "a38b7277",
   "metadata": {},
   "source": [
    "**d)**\n",
    "Write a function `plot_rectangles(f,a,b,N,alpha=0.5)` that graphically represents the approximation by the rectangle rule."
   ]
  },
  {
   "cell_type": "markdown",
   "id": "bab90768",
   "metadata": {},
   "source": [
    "**e)**\n",
    "Determine empirically the speed of convergence of the rectangle rule as a function of $N$."
   ]
  },
  {
   "cell_type": "markdown",
   "id": "7f370935",
   "metadata": {},
   "source": [
    "**f)**\n",
    "Determine analytically the convergence of the rectangle rule. What are the necessary assumptions on $f$?\n",
    "\n",
    "**Hint.**\n",
    "Use the mean value theorem."
   ]
  },
  {
   "cell_type": "markdown",
   "id": "347e31cd",
   "metadata": {},
   "source": [
    "# Exercise 5.2: Trapezoidal rule"
   ]
  },
  {
   "cell_type": "markdown",
   "id": "0f1dc8f7",
   "metadata": {},
   "source": [
    "<div id=\"exer:integration-trapezes\"></div>\n",
    "\n",
    "The trapezoidal rule is based on a linear approximation on each interval $[x_n,x_{n+1}]$, more specifically:"
   ]
  },
  {
   "cell_type": "markdown",
   "id": "ef5773c5",
   "metadata": {},
   "source": [
    "$$\n",
    "J_n = \\int_{x_n}^{x_{n+1}} f(x) \\, \\mathrm{d} x \\approx \\delta \\frac{f(x_n) + f(x_{n+1})}{2} \\,.\n",
    "$$"
   ]
  },
  {
   "cell_type": "markdown",
   "id": "d94ab6e3",
   "metadata": {},
   "source": [
    "**a)**\n",
    "Write a Python function `trapezes(f,a,b,N)` that returns the approximation of the integral $J$ by the trapezoidal rule. Test the function `trapezes(f,a,b,N)` for different functions $f$."
   ]
  },
  {
   "cell_type": "markdown",
   "id": "54dd4c2f",
   "metadata": {},
   "source": [
    "**b)**\n",
    "Is your implementation of the function `trapezes(f,a,b,N)` optimal in terms of the number of evaluations of $f$ performed compared to the number of evaluations needed? An optimal implementation of the function `trapezes(f,a,b,N)` should perform $N+1$ evaluations of $f$."
   ]
  },
  {
   "cell_type": "markdown",
   "id": "c028e29e",
   "metadata": {},
   "source": [
    "**c)**\n",
    "Determine empirically the speed of convergence of the trapezoidal rule as a function of $N$."
   ]
  },
  {
   "cell_type": "markdown",
   "id": "fce264e3",
   "metadata": {},
   "source": [
    "**d)**\n",
    "<font color=\"red\">!</font> Determine analytically the convergence of the trapezoidal rule. What are the necessary assumptions on $f$?"
   ]
  },
  {
   "cell_type": "markdown",
   "id": "45e663dd",
   "metadata": {},
   "source": [
    "# Exercise 5.3: Monte Carlo method"
   ]
  },
  {
   "cell_type": "markdown",
   "id": "bdb7268b",
   "metadata": {},
   "source": [
    "<div id=\"exer:integration-montecarlo\"></div>\n",
    "\n",
    "The Monte Carlo method (named after casinos, not a person) is a probabilistic approach to approximate the value of an integral. The basic idea is that the integral $J$ can be seen as the expectation of a uniform random variable $X$ on the interval $[a,b]$:"
   ]
  },
  {
   "cell_type": "markdown",
   "id": "4189723b",
   "metadata": {},
   "source": [
    "$$\n",
    "J = \\int_a^b f(x) \\, \\mathrm{d} x = (b-a)\\mathbb{E}(f(X)) \\,.\n",
    "$$"
   ]
  },
  {
   "cell_type": "markdown",
   "id": "2c9e47d2",
   "metadata": {},
   "source": [
    "By the law of large numbers, this expectation can be approximated by the empirical mean:"
   ]
  },
  {
   "cell_type": "markdown",
   "id": "3f99ea8a",
   "metadata": {},
   "source": [
    "$$\n",
    "\\tilde{J} = \\frac{b-a}{N}\\sum_{i=0}^{N-1} f(x_i) \\,,\n",
    "$$"
   ]
  },
  {
   "cell_type": "markdown",
   "id": "98d5c08d",
   "metadata": {},
   "source": [
    "where $x_i$ are drawn randomly in the interval $[a,b]$ with a uniform probability distribution.\n",
    "\n",
    "**a)**\n",
    "Write a function `montecarlo(f,a,b,N)` that determines an approximation  $\\tilde{J}$ of $J$ by the Monte Carlo method.\n",
    "\n",
    "**Hint.**\n",
    "To generate a vector of random numbers, the `random` sub-module of NumPy can be useful, see the documentation [here](https://numpy.org/doc/stable/reference/random/)."
   ]
  },
  {
   "cell_type": "markdown",
   "id": "0aaad1c1",
   "metadata": {},
   "source": [
    "**b)**\n",
    "Modify the previous function, so that it returns in addition to the mean $\\tilde{J}$ also the empirical variance:"
   ]
  },
  {
   "cell_type": "markdown",
   "id": "1e1fcf4b",
   "metadata": {},
   "source": [
    "$$\n",
    "\\tilde{V} = \\frac{(b-a)^2}{N}\\sum_{i=0}^{N-1} \\left(f(x_i)-\\frac{\\tilde{J}}{b-a}\\right)^2 \\,.\n",
    "$$"
   ]
  },
  {
   "cell_type": "markdown",
   "id": "eb43d0e2",
   "metadata": {},
   "source": [
    "**c)**\n",
    "Study empirically the convergence of the Monte Carlo method as a function of $N$ by making for each value of $N$ a statistic on $k$ executions.\n",
    "More precisely, this consists in making $k$ evaluations of $\\tilde{J}$ by the Monte Carlo method and to calculate the mean and the variance of the $k$ results obtained."
   ]
  },
  {
   "cell_type": "markdown",
   "id": "7a84b079",
   "metadata": {},
   "source": [
    "**d)**\n",
    "Determine analytically the convergence of the Monte Carlo method. What are the necessary assumptions on $f$?\n",
    "\n",
    "**Hint.**\n",
    "Use the central limit theorem."
   ]
  },
  {
   "cell_type": "markdown",
   "id": "22af62a3",
   "metadata": {},
   "source": [
    "# Exercise 5.4: <font color=\"red\">!</font> Simpson's rule"
   ]
  },
  {
   "cell_type": "markdown",
   "id": "338bd816",
   "metadata": {},
   "source": [
    "<div id=\"exer:integration-simpson\"></div>\n",
    "\n",
    "Simpson's rule consists in approximating the function $f$ on each interval $[x_n,x_{n+1}]$ by a polynomial of degree 2. The most natural choice is the polynomial $p_n$ of degree 2 passing through the points $(x_n,f(x_n))$, $(\\frac{x_n+x_{n+1}}{2},f(\\frac{x_n+x_{n+1}}{2}))$, and $(x_{n+1},f(x_{n+1}))$.\n",
    "\n",
    "**a)**\n",
    "Determine the explicit form of the polynomial $p_n$.\n",
    "\n",
    "**Hint.**\n",
    "The polynomial $L(x) = \\frac{(x-c)(x-b)}{(a-c)(a-b)}$ takes the value 1 at $x=a$ and the value 0 at $x=b$ and $x=c$. Make a linear combination of three such polynomials."
   ]
  },
  {
   "cell_type": "markdown",
   "id": "58a4f604",
   "metadata": {},
   "source": [
    "**b)**\n",
    "Compute the approximation given by $J_n \\approx \\int_{x_n}^{x_{n+1}} p_n(x)\\,\\mathrm{d} x \\,.$\n",
    "\n",
    "**Hint.**\n",
    "It is possible to calculate this integral by hand or to do it with the SymPy module, see the documentation [here](https://docs.sympy.org/latest/modules/integrals/integrals.html)."
   ]
  },
  {
   "cell_type": "markdown",
   "id": "ec8110dc",
   "metadata": {},
   "source": [
    "**c)**\n",
    "Simplify by hand the sum $\\tilde{J}$ of the approximations of $J_n$.\n",
    "\n",
    "**Answer.**\n",
    "The result is:"
   ]
  },
  {
   "cell_type": "markdown",
   "id": "4881b3a0",
   "metadata": {},
   "source": [
    "$$\n",
    "\\tilde{J} = \\frac{\\delta}{3}\\left[\\frac{f(b)-f(a)}{2}+\\sum_{n=0}^{N-1}\\left(f(x_{n})+2f\\left(\\frac{x_{n}+x_{n+1}}{2}\\right)\\right)\\right] \\,.\n",
    "$$"
   ]
  },
  {
   "cell_type": "markdown",
   "id": "3b58758e",
   "metadata": {},
   "source": [
    "\n",
    "**d)**\n",
    "Write a function `simpson(f,a,b,N)` to approximate $J$ with Simpson's rule.\n",
    "\n"
   ]
  },
  {
   "cell_type": "markdown",
   "id": "2cfe7857",
   "metadata": {},
   "source": [
    "**e)**\n",
    "Compare the accuracy, *i.e.*, the convergence speed of the rectangle, trapezoid, and Simpson methods as a function of $N$ for a smooth function and the function $f(x)=\\sqrt{1-x^2}$ on $[0,1]$ (whose integral is $\\frac{\\pi}{4}$)."
   ]
  },
  {
   "cell_type": "markdown",
   "id": "a44ea73e",
   "metadata": {},
   "source": [
    "**f)**\n",
    "If not already done, propose a parallel implementation of Simpson's rule using NumPy indexing."
   ]
  },
  {
   "cell_type": "markdown",
   "id": "ca7993fc",
   "metadata": {},
   "source": [
    "# Exercise 5.5: <font color=\"red\">!!</font> Integration with SciPy"
   ]
  },
  {
   "cell_type": "markdown",
   "id": "2dfae7ae",
   "metadata": {},
   "source": [
    "The above and other integration methods are defined in the `integrate` module of SciPy. This module allows in particular to handle more complicated cases: singular, generalized, or multidimensional integrals.\n",
    "\n",
    "**a)**\n",
    "Define a function `E(n,x)` computing numerically the following integral:"
   ]
  },
  {
   "cell_type": "markdown",
   "id": "9b85b98a",
   "metadata": {},
   "source": [
    "$$\n",
    "E_n(x) = \\int_1^\\infty \\frac{e^{-xt}}{t^n} \\mathrm{d} t \\,.\n",
    "$$"
   ]
  },
  {
   "cell_type": "markdown",
   "id": "80bb8f23",
   "metadata": {},
   "source": [
    "**Hint.**\n",
    "Read the documentation of the SciPy `integrate` sub-module available [here](https://docs.scipy.org/doc/scipy/tutorial/integrate.html)."
   ]
  },
  {
   "cell_type": "markdown",
   "id": "f6ced1c6",
   "metadata": {},
   "source": [
    "**b)**\n",
    "Determine an approximation of the double integral:"
   ]
  },
  {
   "cell_type": "markdown",
   "id": "46bdbab5",
   "metadata": {},
   "source": [
    "$$\n",
    "I = \\int_{0}^{\\pi} \\left(\\int_{0}^{y} x \\sin(xy) \\,\\mathrm{d} x \\right) \\mathrm{d} y \\,.\n",
    "$$"
   ]
  }
 ],
 "metadata": {
  "kernelspec": {
   "display_name": "Python 3",
   "language": "python",
   "name": "python3"
  },
  "language_info": {
   "codemirror_mode": {
    "name": "ipython",
    "version": 3
   },
   "file_extension": ".py",
   "mimetype": "text/x-python",
   "name": "python",
   "nbconvert_exporter": "python",
   "pygments_lexer": "ipython3",
   "version": "3.8.5"
  }
 },
 "nbformat": 4,
 "nbformat_minor": 5
}